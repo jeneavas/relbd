{
 "cells": [
  {
   "cell_type": "code",
   "execution_count": 2,
   "id": "15cc506e",
   "metadata": {},
   "outputs": [],
   "source": [
    "import mysql.connector\n",
    "import pandas as pd\n",
    "from datetime import date\n",
    "import random as rnd\n",
    "import datetime"
   ]
  },
  {
   "cell_type": "code",
   "execution_count": 5,
   "id": "cc3b43c3",
   "metadata": {},
   "outputs": [],
   "source": [
    "con = mysql.connector.connect(host='127.0.0.1', database='library', port=3306, user='root', password='24682468Aa')"
   ]
  },
  {
   "cell_type": "code",
   "execution_count": 6,
   "id": "aeb23f41",
   "metadata": {},
   "outputs": [],
   "source": [
    "cur = con.cursor(dictionary=True)"
   ]
  },
  {
   "cell_type": "markdown",
   "id": "286929c2",
   "metadata": {},
   "source": [
    "# Проверить, есть ли у меня читательский билет"
   ]
  },
  {
   "cell_type": "code",
   "execution_count": 3,
   "id": "ae9a01e3",
   "metadata": {},
   "outputs": [],
   "source": [
    "def check_id(phone):\n",
    "    cur.execute(\"SELECT id_member FROM members\\\n",
    "                WHERE phone={}\".format(phone))\n",
    "    data=cur.fetchall()\n",
    "    if data != []:\n",
    "        print('Номер вашего читательского билета: {}'.format(data[0]['id_member']))\n",
    "        return data[0]['id_member']\n",
    "    else:\n",
    "        print('Номер читательского билета для номера телефона {} не найден.\\\n",
    "        \\nПопробуйте еще раз или получите читательский билет'.format(phone))"
   ]
  },
  {
   "cell_type": "code",
   "execution_count": null,
   "id": "e7a0dad1",
   "metadata": {},
   "outputs": [],
   "source": [
    "name = str(input('Введите номер телефона: '))\n",
    "member_id = check_id(name)"
   ]
  },
  {
   "cell_type": "markdown",
   "id": "d047ca2d",
   "metadata": {},
   "source": [
    "# Получить читательский билет"
   ]
  },
  {
   "cell_type": "code",
   "execution_count": null,
   "id": "25de38ce",
   "metadata": {},
   "outputs": [],
   "source": [
    "def add_member(name, phone, email):\n",
    "    reg_date = date.today().strftime(\"%Y-%m-%d\")\n",
    "    cur.execute(\"SELECT id_member, phone, email  FROM members \\\n",
    "                WHERE phone={} OR email LIKE '{}'\".format(phone, email))\n",
    "    data = cur.fetchall()\n",
    "    \n",
    "    if data == []:\n",
    "        am = \"INSERT INTO members (name, phone, email, reg_date) \\\n",
    "        VALUES ('{}', '{}', '{}', '{}')\".format(name, phone, email, reg_date)\n",
    "        cur.execute(am)\n",
    "        con.commit()\n",
    "\n",
    "        cur.execute(\"SELECT id_member FROM members ORDER BY id_member DESC LIMIT 1\")\n",
    "        data=cur.fetchall()\n",
    "        print('\\nВы успешно зарегестрированы!\\\n",
    "        \\nНомер вашего читательского билета: {}'.format(data[0]['id_member']))\n",
    "        return data[0]['id_member']\n",
    "    else:\n",
    "        \n",
    "        print('\\nПользователь с номером {} уже зарегестрирован.\\\n",
    "        \\nНомер читательского билета: {}'.format(phone, data[0]['id_member']))\n",
    "        return data[0]['id_member']"
   ]
  },
  {
   "cell_type": "code",
   "execution_count": null,
   "id": "bb8ced4b",
   "metadata": {},
   "outputs": [],
   "source": [
    "name, phone, email  = input('Введите ФИО: '), str(input('Введите номер телефона: ')), input('Введите email: ')\n",
    "member_id = add_member(name, phone, email)"
   ]
  },
  {
   "cell_type": "markdown",
   "id": "a66cff21",
   "metadata": {},
   "source": [
    "# Поиск по авторам, жанру и названию"
   ]
  },
  {
   "cell_type": "code",
   "execution_count": null,
   "id": "d88b8321",
   "metadata": {},
   "outputs": [],
   "source": [
    "def find_book(query):\n",
    "    cur.execute(\"\"\"SELECT * FROM (\n",
    "                SELECT title, group_concat(DISTINCT name SEPARATOR ', ') as names, language, cat_name, pub_year, num_available, \n",
    "                books.id_book FROM authors, books, authors2books, category\n",
    "                WHERE authors.id_author=authors2books.id_author \n",
    "                AND books.id_book=authors2books.id_book AND category.id_category=books.category\n",
    "                GROUP BY id_book) as info\n",
    "                WHERE info.title LIKE '%{}%'\n",
    "                OR info.names LIKE '%{}%'\n",
    "                OR info.cat_name LIKE '%{}%'\n",
    "                \"\"\".format(query, query, query))\n",
    "    data=cur.fetchall()\n",
    "    if data==[]:\n",
    "        print('По вашему запросу ничего не найдено')\n",
    "    else:\n",
    "        return pd.DataFrame.from_dict(data)"
   ]
  },
  {
   "cell_type": "code",
   "execution_count": null,
   "id": "dd22ebdd",
   "metadata": {},
   "outputs": [],
   "source": [
    "query = str(input('Введите слов(а) для поиска: '))\n",
    "df = find_book(query)\n",
    "df"
   ]
  },
  {
   "cell_type": "markdown",
   "id": "d0f30864",
   "metadata": {},
   "source": [
    "## Взять книгу"
   ]
  },
  {
   "cell_type": "code",
   "execution_count": null,
   "id": "20b91741",
   "metadata": {},
   "outputs": [],
   "source": [
    "def take_book(users_id):\n",
    "    cur.execute(\"SELECT DISTINCT id_book, title FROM books LEFT JOIN loans \\\n",
    "                ON books.id_book=loans.book_id \\\n",
    "                WHERE id_book={} AND num_available > 0\".format(df.iloc[users_id]['id_book']))\n",
    "    avail=cur.fetchall()\n",
    "\n",
    "\n",
    "    if avail == []: # check when book will be returned\n",
    "        cur.execute(\"SELECT title, date_end FROM books LEFT JOIN loans \\\n",
    "                ON books.id_book=loans.book_id \\\n",
    "                WHERE id_book={} \\\n",
    "                ORDER BY date_end\".format(df.iloc[users_id]['id_book']))\n",
    "        data=cur.fetchall()\n",
    "        print('К сожалению, сейчас нет доступных экземпляров книги \"{}\". \\\n",
    "        \\nПредполагаемая дата возврата книги в библиотеку: {}'.format(data[0]['title'], data[0]['date_end']))\n",
    "\n",
    "    else: # сделать запись в loan\n",
    "        date_st = date.today()\n",
    "        date_end = date_st + datetime.timedelta(days=30)\n",
    "\n",
    "        date_end = date_end.strftime(\"%Y-%m-%d\")\n",
    "        date_st = date_st.strftime(\"%Y-%m-%d\")\n",
    "        id_book = str(avail[0]['id_book'])\n",
    "\n",
    "        sss = \"INSERT INTO loans (members_id, book_id, date_st, date_end) \\\n",
    "                VALUES ('{}')\".format(\"', '\".join([str(member_id), id_book, date_st, date_end])) \n",
    "        cur.execute(sss)\n",
    "   \n",
    "        # обновить avail в books\n",
    "        sss = \"UPDATE books SET num_available=num_available- 1\\\n",
    "                WHERE id_book={}\".format(id_book, id_book) \n",
    "        cur.execute(sss)\n",
    "        print('Вы успешно зарезервировали кингу \"{}\". \\\n",
    "        \\nЕе необходимо вернуть до {}'.format(avail[0]['title'], date_end))\n",
    "\n",
    "        con.commit()"
   ]
  },
  {
   "cell_type": "code",
   "execution_count": null,
   "id": "e067ff75",
   "metadata": {},
   "outputs": [],
   "source": [
    "users_id = int(input('Введите номер нужной книги: '))\n",
    "take_book(users_id)"
   ]
  },
  {
   "cell_type": "markdown",
   "id": "2b4af8dc",
   "metadata": {},
   "source": [
    "# Проверить, какие книжки на руках и продлить их"
   ]
  },
  {
   "cell_type": "code",
   "execution_count": null,
   "id": "a38cefff",
   "metadata": {},
   "outputs": [],
   "source": [
    "def check_my_books(member_id):\n",
    "    cur.execute(\"SELECT title, date_end, id_book FROM books LEFT JOIN loans \\\n",
    "                ON books.id_book=loans.book_id \\\n",
    "                WHERE members_id={} \\\n",
    "                ORDER BY date_end\".format(str(member_id)))\n",
    "    data = cur.fetchall()\n",
    "    if data != []:\n",
    "        print(\"Ваши книги:\")\n",
    "        display(pd.DataFrame.from_dict(data))\n",
    "    \n",
    "        answer = input('Хотите продлить кингу? Да/Нет ')\n",
    "        while answer.capitalize() == 'Да':\n",
    "            book_id = int(input('Введите номер книги: '))\n",
    "            update_date = \"\"\"UPDATE loans SET date_end = DATE_ADD(date_end, INTERVAL 30 DAY)\n",
    "                            WHERE book_id={} \n",
    "                            AND members_id={}\"\"\".format(str(data[book_id]['id_book']), member_id)\n",
    "            cur.execute(update_date)\n",
    "            \n",
    "            cur.execute(\"\"\"SELECT date_end FROM loans \n",
    "                            WHERE book_id={} \n",
    "                            AND members_id={}\"\"\".format(str(data[book_id]['id_book']), member_id))\n",
    "            new_date = cur.fetchall()\n",
    "            print(\"Дата возврата успешно изменена с {} на {}\".format(data[book_id]['date_end'], new_date[0]['date_end']))\n",
    "            answer = input('Хотите продлить кингу? Да/Нет ')\n",
    "    else:\n",
    "        print(\"Вы еще ничего не взяли из библиотеки\")"
   ]
  },
  {
   "cell_type": "code",
   "execution_count": null,
   "id": "70e416a6",
   "metadata": {},
   "outputs": [],
   "source": [
    "check_my_books(member_id)"
   ]
  },
  {
   "cell_type": "markdown",
   "id": "6d298cfb",
   "metadata": {},
   "source": [
    "# Проверить, есть ли неоплаченные штрафы"
   ]
  },
  {
   "cell_type": "code",
   "execution_count": null,
   "id": "bca1b738",
   "metadata": {},
   "outputs": [],
   "source": [
    "def check_my_fees(member_id):\n",
    "    cur.execute(\"SELECT DATEDIFF(CURDATE(), date_end) AS date_diff, \\\n",
    "                title, fee_amount FROM fees JOIN loans \\\n",
    "                ON fees.loan_id=loans.id_loan\\\n",
    "                JOIN books \\\n",
    "                ON books.id_book=loans.book_id\\\n",
    "                WHERE members_id={} AND\\\n",
    "                paid=0\".format(str(member_id)))\n",
    "    data = cur.fetchall()\n",
    "    if data == []:\n",
    "        print(\"У вас нет неоплаченных штрафов\")\n",
    "    else:\n",
    "        for fee in data:\n",
    "            print('Штраф за кннигу \"{}\" - {} р. Вы просрочили книгу на {} дня'.format(\\\n",
    "                                fee['title'], fee['fee_amount'], fee['date_diff']))"
   ]
  },
  {
   "cell_type": "code",
   "execution_count": null,
   "id": "c48ad0af",
   "metadata": {},
   "outputs": [],
   "source": [
    "check_my_fees(member_id)"
   ]
  },
  {
   "cell_type": "markdown",
   "id": "d6b96f9a",
   "metadata": {},
   "source": [
    "Удаление"
   ]
  },
  {
   "cell_type": "code",
   "execution_count": null,
   "id": "2cea5666",
   "metadata": {},
   "outputs": [],
   "source": [
    "cur.execute(\"SELECT id_loan FROM loans ORDER BY id_loan DESC LIMIT 5\")\n",
    "cur.fetchall()"
   ]
  },
  {
   "cell_type": "code",
   "execution_count": null,
   "id": "d71590ed",
   "metadata": {},
   "outputs": [],
   "source": [
    "sss = \"DELETE FROM loans ORDER BY id_loan DESC LIMIT 1\" \n",
    "cur.execute(sss)\n",
    "# con.commit()"
   ]
  },
  {
   "cell_type": "markdown",
   "id": "3e72f1dc",
   "metadata": {},
   "source": [
    "# Запросы"
   ]
  },
  {
   "cell_type": "markdown",
   "id": "808bd022",
   "metadata": {},
   "source": [
    "1. топ-5 авторов по полулярности у читателей"
   ]
  },
  {
   "cell_type": "code",
   "execution_count": 7,
   "id": "361c7b33",
   "metadata": {},
   "outputs": [
    {
     "data": {
      "text/html": [
       "<div>\n",
       "<style scoped>\n",
       "    .dataframe tbody tr th:only-of-type {\n",
       "        vertical-align: middle;\n",
       "    }\n",
       "\n",
       "    .dataframe tbody tr th {\n",
       "        vertical-align: top;\n",
       "    }\n",
       "\n",
       "    .dataframe thead th {\n",
       "        text-align: right;\n",
       "    }\n",
       "</style>\n",
       "<table border=\"1\" class=\"dataframe\">\n",
       "  <thead>\n",
       "    <tr style=\"text-align: right;\">\n",
       "      <th></th>\n",
       "      <th>cn_names</th>\n",
       "      <th>cnt</th>\n",
       "    </tr>\n",
       "  </thead>\n",
       "  <tbody>\n",
       "    <tr>\n",
       "      <th>0</th>\n",
       "      <td>Ганс Андерсен, Эрнст Гофман, Гримм Якоб и Виль...</td>\n",
       "      <td>5</td>\n",
       "    </tr>\n",
       "    <tr>\n",
       "      <th>1</th>\n",
       "      <td>Себастьян Перез</td>\n",
       "      <td>4</td>\n",
       "    </tr>\n",
       "    <tr>\n",
       "      <th>2</th>\n",
       "      <td>Сергей Тармашев</td>\n",
       "      <td>4</td>\n",
       "    </tr>\n",
       "    <tr>\n",
       "      <th>3</th>\n",
       "      <td>Виктория Кирдий</td>\n",
       "      <td>3</td>\n",
       "    </tr>\n",
       "    <tr>\n",
       "      <th>4</th>\n",
       "      <td>Леонид Парфенов</td>\n",
       "      <td>3</td>\n",
       "    </tr>\n",
       "  </tbody>\n",
       "</table>\n",
       "</div>"
      ],
      "text/plain": [
       "                                            cn_names  cnt\n",
       "0  Ганс Андерсен, Эрнст Гофман, Гримм Якоб и Виль...    5\n",
       "1                                    Себастьян Перез    4\n",
       "2                                    Сергей Тармашев    4\n",
       "3                                    Виктория Кирдий    3\n",
       "4                                    Леонид Парфенов    3"
      ]
     },
     "execution_count": 7,
     "metadata": {},
     "output_type": "execute_result"
    }
   ],
   "source": [
    "cur.execute(\"\"\"WITH full_authors AS (SELECT title, \n",
    "            GROUP_CONCAT(name SEPARATOR ', ') as cn_names, books.id_book\n",
    "            FROM books, authors2books, authors\n",
    "            WHERE \n",
    "            authors2books.id_author=authors.id_author\n",
    "            AND authors2books.id_book=books.id_book\n",
    "            GROUP BY books.id_book) \n",
    "            \n",
    "            SELECT  cn_names, COUNT(DISTINCT(id_loan)) as cnt\n",
    "            FROM loans, full_authors\n",
    "            WHERE loans.book_id=full_authors.id_book\n",
    "            GROUP BY cn_names\n",
    "            ORDER BY cnt DESC\n",
    "            LIMIT 5\"\"\")\n",
    "data=cur.fetchall()\n",
    "pd.DataFrame.from_dict(data)"
   ]
  },
  {
   "cell_type": "markdown",
   "id": "642ab734",
   "metadata": {},
   "source": [
    "2. сумма неоплаченных штрафов по пользователю"
   ]
  },
  {
   "cell_type": "code",
   "execution_count": 8,
   "id": "414e0ff9",
   "metadata": {},
   "outputs": [
    {
     "data": {
      "text/html": [
       "<div>\n",
       "<style scoped>\n",
       "    .dataframe tbody tr th:only-of-type {\n",
       "        vertical-align: middle;\n",
       "    }\n",
       "\n",
       "    .dataframe tbody tr th {\n",
       "        vertical-align: top;\n",
       "    }\n",
       "\n",
       "    .dataframe thead th {\n",
       "        text-align: right;\n",
       "    }\n",
       "</style>\n",
       "<table border=\"1\" class=\"dataframe\">\n",
       "  <thead>\n",
       "    <tr style=\"text-align: right;\">\n",
       "      <th></th>\n",
       "      <th>name</th>\n",
       "      <th>total_fee</th>\n",
       "    </tr>\n",
       "  </thead>\n",
       "  <tbody>\n",
       "    <tr>\n",
       "      <th>0</th>\n",
       "      <td>Воробьева Мадина Денисовна</td>\n",
       "      <td>53700</td>\n",
       "    </tr>\n",
       "    <tr>\n",
       "      <th>1</th>\n",
       "      <td>Королев Павел Андреевич</td>\n",
       "      <td>35450</td>\n",
       "    </tr>\n",
       "    <tr>\n",
       "      <th>2</th>\n",
       "      <td>Смирнова Кристина Александровна</td>\n",
       "      <td>39700</td>\n",
       "    </tr>\n",
       "    <tr>\n",
       "      <th>3</th>\n",
       "      <td>Яковлев Арсений Константинович</td>\n",
       "      <td>54600</td>\n",
       "    </tr>\n",
       "    <tr>\n",
       "      <th>4</th>\n",
       "      <td>Карпов Демид Глебович</td>\n",
       "      <td>3150</td>\n",
       "    </tr>\n",
       "    <tr>\n",
       "      <th>5</th>\n",
       "      <td>Кузина Таисия Артёмовна</td>\n",
       "      <td>22750</td>\n",
       "    </tr>\n",
       "    <tr>\n",
       "      <th>6</th>\n",
       "      <td>Черная Ника Романовна</td>\n",
       "      <td>5750</td>\n",
       "    </tr>\n",
       "    <tr>\n",
       "      <th>7</th>\n",
       "      <td>Кузнецова Вероника Викторовна</td>\n",
       "      <td>39800</td>\n",
       "    </tr>\n",
       "  </tbody>\n",
       "</table>\n",
       "</div>"
      ],
      "text/plain": [
       "                              name total_fee\n",
       "0       Воробьева Мадина Денисовна     53700\n",
       "1          Королев Павел Андреевич     35450\n",
       "2  Смирнова Кристина Александровна     39700\n",
       "3   Яковлев Арсений Константинович     54600\n",
       "4            Карпов Демид Глебович      3150\n",
       "5          Кузина Таисия Артёмовна     22750\n",
       "6            Черная Ника Романовна      5750\n",
       "7    Кузнецова Вероника Викторовна     39800"
      ]
     },
     "execution_count": 8,
     "metadata": {},
     "output_type": "execute_result"
    }
   ],
   "source": [
    "cur.execute(\"\"\"SELECT name, SUM(fee_amount) as total_fee\n",
    "                FROM loans JOIN fees ON loans.id_loan=fees.loan_id\n",
    "                JOIN members ON members.id_member=loans.members_id\n",
    "                WHERE paid=0\n",
    "                GROUP BY members_id\"\"\")\n",
    "data=cur.fetchall()\n",
    "pd.DataFrame.from_dict(data)"
   ]
  },
  {
   "cell_type": "markdown",
   "id": "e6753ca0",
   "metadata": {},
   "source": [
    "3. люди, у которых неоплаченный штраф выше среднего по неоплаченным"
   ]
  },
  {
   "cell_type": "code",
   "execution_count": 9,
   "id": "0cdb5b1f",
   "metadata": {},
   "outputs": [
    {
     "data": {
      "text/html": [
       "<div>\n",
       "<style scoped>\n",
       "    .dataframe tbody tr th:only-of-type {\n",
       "        vertical-align: middle;\n",
       "    }\n",
       "\n",
       "    .dataframe tbody tr th {\n",
       "        vertical-align: top;\n",
       "    }\n",
       "\n",
       "    .dataframe thead th {\n",
       "        text-align: right;\n",
       "    }\n",
       "</style>\n",
       "<table border=\"1\" class=\"dataframe\">\n",
       "  <thead>\n",
       "    <tr style=\"text-align: right;\">\n",
       "      <th></th>\n",
       "      <th>name</th>\n",
       "      <th>fee_amount</th>\n",
       "    </tr>\n",
       "  </thead>\n",
       "  <tbody>\n",
       "    <tr>\n",
       "      <th>0</th>\n",
       "      <td>Воробьева Мадина Денисовна</td>\n",
       "      <td>53700</td>\n",
       "    </tr>\n",
       "    <tr>\n",
       "      <th>1</th>\n",
       "      <td>Кузнецова Вероника Викторовна</td>\n",
       "      <td>39800</td>\n",
       "    </tr>\n",
       "    <tr>\n",
       "      <th>2</th>\n",
       "      <td>Королев Павел Андреевич</td>\n",
       "      <td>35450</td>\n",
       "    </tr>\n",
       "    <tr>\n",
       "      <th>3</th>\n",
       "      <td>Яковлев Арсений Константинович</td>\n",
       "      <td>33850</td>\n",
       "    </tr>\n",
       "    <tr>\n",
       "      <th>4</th>\n",
       "      <td>Смирнова Кристина Александровна</td>\n",
       "      <td>28250</td>\n",
       "    </tr>\n",
       "  </tbody>\n",
       "</table>\n",
       "</div>"
      ],
      "text/plain": [
       "                              name  fee_amount\n",
       "0       Воробьева Мадина Денисовна       53700\n",
       "1    Кузнецова Вероника Викторовна       39800\n",
       "2          Королев Павел Андреевич       35450\n",
       "3   Яковлев Арсений Константинович       33850\n",
       "4  Смирнова Кристина Александровна       28250"
      ]
     },
     "execution_count": 9,
     "metadata": {},
     "output_type": "execute_result"
    }
   ],
   "source": [
    "cur.execute(\"\"\"SELECT name, fee_amount FROM fees \n",
    "                JOIN loans ON fees.loan_id=loans.id_loan \n",
    "                RIGHT JOIN members ON members.id_member=loans.members_id\n",
    "                WHERE paid=0 \n",
    "                AND fee_amount > (\n",
    "                SELECT ROUND(AVG(fee_amount)) FROM fees WHERE paid=0)\n",
    "                ORDER BY fee_amount DESC\"\"\")\n",
    "data=cur.fetchall()\n",
    "pd.DataFrame.from_dict(data)"
   ]
  },
  {
   "cell_type": "code",
   "execution_count": 10,
   "id": "f15f42bb",
   "metadata": {},
   "outputs": [],
   "source": [
    "cur.close()\n",
    "con.close()"
   ]
  }
 ],
 "metadata": {
  "kernelspec": {
   "display_name": "Python 3 (ipykernel)",
   "language": "python",
   "name": "python3"
  },
  "language_info": {
   "codemirror_mode": {
    "name": "ipython",
    "version": 3
   },
   "file_extension": ".py",
   "mimetype": "text/x-python",
   "name": "python",
   "nbconvert_exporter": "python",
   "pygments_lexer": "ipython3",
   "version": "3.10.1"
  }
 },
 "nbformat": 4,
 "nbformat_minor": 5
}
