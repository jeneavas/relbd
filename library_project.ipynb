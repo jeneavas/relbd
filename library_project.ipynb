{
 "cells": [
  {
   "cell_type": "code",
   "execution_count": 6,
   "id": "micro-travel",
   "metadata": {},
   "outputs": [],
   "source": [
    "import mysql.connector\n",
    "import pandas as pd\n",
    "from datetime import date\n",
    "import random as rnd\n",
    "import datetime"
   ]
  },
  {
   "cell_type": "code",
   "execution_count": 7,
   "id": "common-demographic",
   "metadata": {},
   "outputs": [],
   "source": [
    "con = mysql.connector.connect(host='127.0.0.1', database='library', port=3306, user='root', password='')"
   ]
  },
  {
   "cell_type": "code",
   "execution_count": 8,
   "id": "great-boundary",
   "metadata": {},
   "outputs": [],
   "source": [
    "cur = con.cursor(dictionary=True)"
   ]
  },
  {
   "cell_type": "code",
   "execution_count": 11,
   "id": "proud-change",
   "metadata": {},
   "outputs": [],
   "source": [
    "# cur.close()\n",
    "# con.close()"
   ]
  },
  {
   "cell_type": "markdown",
   "id": "about-affiliate",
   "metadata": {},
   "source": [
    "# Генерим данные  и заполняем табличку members"
   ]
  },
  {
   "cell_type": "markdown",
   "id": "available-liberia",
   "metadata": {},
   "source": [
    "## Нужно заполнить поля: \n",
    "- name\n",
    "- phone\n",
    "- email\n"
   ]
  },
  {
   "cell_type": "markdown",
   "id": "noble-guyana",
   "metadata": {},
   "source": [
    "### Генерим телефон"
   ]
  },
  {
   "cell_type": "code",
   "execution_count": 146,
   "id": "separate-contrary",
   "metadata": {},
   "outputs": [],
   "source": [
    "def gen_phone(n):\n",
    "    nmbs = []\n",
    "    for _ in range(n):\n",
    "        nmb = [str(n) for n in rnd.choices(range(0,10), k=9)]     \n",
    "        nmbs.append('89'+''.join(nmb))\n",
    "    return nmbs"
   ]
  },
  {
   "cell_type": "code",
   "execution_count": 149,
   "id": "respective-pottery",
   "metadata": {},
   "outputs": [],
   "source": [
    "phones = gen_phone(50)"
   ]
  },
  {
   "cell_type": "code",
   "execution_count": 153,
   "id": "polar-france",
   "metadata": {},
   "outputs": [
    {
     "data": {
      "text/plain": [
       "50"
      ]
     },
     "execution_count": 153,
     "metadata": {},
     "output_type": "execute_result"
    }
   ],
   "source": [
    "len(phones)"
   ]
  },
  {
   "cell_type": "code",
   "execution_count": 154,
   "id": "authentic-solid",
   "metadata": {},
   "outputs": [
    {
     "data": {
      "text/plain": [
       "['89865952994',\n",
       " '89379889976',\n",
       " '89469654744',\n",
       " '89731858269',\n",
       " '89394589657',\n",
       " '89836300803',\n",
       " '89848599126',\n",
       " '89314204742',\n",
       " '89881775621',\n",
       " '89600176569']"
      ]
     },
     "execution_count": 154,
     "metadata": {},
     "output_type": "execute_result"
    }
   ],
   "source": [
    "phones[:10]"
   ]
  },
  {
   "cell_type": "markdown",
   "id": "choice-california",
   "metadata": {},
   "source": [
    "### Достаем имена"
   ]
  },
  {
   "cell_type": "code",
   "execution_count": 82,
   "id": "fallen-console",
   "metadata": {},
   "outputs": [
    {
     "name": "stdout",
     "output_type": "stream",
     "text": [
      "Collecting beautifulsoup4\n",
      "  Downloading beautifulsoup4-4.10.0-py3-none-any.whl (97 kB)\n",
      "Collecting soupsieve>1.2\n",
      "  Downloading soupsieve-2.3.1-py3-none-any.whl (37 kB)\n",
      "Installing collected packages: soupsieve, beautifulsoup4\n",
      "Successfully installed beautifulsoup4-4.10.0 soupsieve-2.3.1\n",
      "Requirement already satisfied: requests in c:\\program files\\python\\lib\\site-packages (2.26.0)\n",
      "Requirement already satisfied: certifi>=2017.4.17 in c:\\program files\\python\\lib\\site-packages (from requests) (2021.5.30)\n",
      "Requirement already satisfied: urllib3<1.27,>=1.21.1 in c:\\program files\\python\\lib\\site-packages (from requests) (1.26.6)\n",
      "Requirement already satisfied: charset-normalizer~=2.0.0 in c:\\program files\\python\\lib\\site-packages (from requests) (2.0.4)\n",
      "Requirement already satisfied: idna<4,>=2.5 in c:\\program files\\python\\lib\\site-packages (from requests) (3.2)\n"
     ]
    }
   ],
   "source": [
    "!pip install beautifulsoup4\n",
    "! pip install requests"
   ]
  },
  {
   "cell_type": "code",
   "execution_count": 7,
   "id": "associate-submission",
   "metadata": {},
   "outputs": [],
   "source": [
    "import requests\n",
    "from bs4 import BeautifulSoup"
   ]
  },
  {
   "cell_type": "code",
   "execution_count": 104,
   "id": "robust-family",
   "metadata": {},
   "outputs": [],
   "source": [
    "count = 50\n",
    "link = 'https://randomus.ru/name?type=0&sex=10&count={}'.format(count)\n",
    "result = requests.get(link)\n",
    "html = result.text\n",
    "soup = BeautifulSoup(html,'html.parser')\n",
    "names = soup.find('div', {'class':\"field is-grouped is-grouped-multiline\"}).get_text()"
   ]
  },
  {
   "cell_type": "code",
   "execution_count": 105,
   "id": "desperate-tribute",
   "metadata": {},
   "outputs": [],
   "source": [
    "names = names.split('\\n\\n\\n\\n\\n')"
   ]
  },
  {
   "cell_type": "code",
   "execution_count": 106,
   "id": "limiting-purchase",
   "metadata": {},
   "outputs": [],
   "source": [
    "names = [name.replace('\\n','') for name in names]"
   ]
  },
  {
   "cell_type": "code",
   "execution_count": 144,
   "id": "tamil-creation",
   "metadata": {},
   "outputs": [
    {
     "data": {
      "text/plain": [
       "50"
      ]
     },
     "execution_count": 144,
     "metadata": {},
     "output_type": "execute_result"
    }
   ],
   "source": [
    "len(names)"
   ]
  },
  {
   "cell_type": "code",
   "execution_count": 109,
   "id": "diagnostic-palestine",
   "metadata": {},
   "outputs": [
    {
     "data": {
      "text/plain": [
       "['Овсянников Егор Иванович',\n",
       " 'Ефимова Анастасия Михайловна',\n",
       " 'Баранов Александр Михайлович',\n",
       " 'Сорокина Антонина Матвеевна',\n",
       " 'Шаповалова Ольга Львовна',\n",
       " 'Кузнецова Вероника Викторовна',\n",
       " 'Харитонова Кристина Николаевна',\n",
       " 'Корнеев Арсений Александрович',\n",
       " 'Смирнова Вероника Фёдоровна',\n",
       " 'Козлова Александра Дмитриевна']"
      ]
     },
     "execution_count": 109,
     "metadata": {},
     "output_type": "execute_result"
    }
   ],
   "source": [
    "names[:10]"
   ]
  },
  {
   "cell_type": "markdown",
   "id": "anonymous-thought",
   "metadata": {},
   "source": [
    "### Email'ы"
   ]
  },
  {
   "cell_type": "code",
   "execution_count": 111,
   "id": "sitting-reward",
   "metadata": {},
   "outputs": [],
   "source": [
    "import string\n",
    "alphabet = string.ascii_lowercase"
   ]
  },
  {
   "cell_type": "code",
   "execution_count": 137,
   "id": "massive-ceramic",
   "metadata": {},
   "outputs": [],
   "source": [
    "def gen_emails(n):\n",
    "    emails = []\n",
    "    for _ in range(n):\n",
    "        emails.append(''.join(\\\n",
    "            rnd.choices(alphabet, \\\n",
    "            k=rnd.randint(6,10)))\\\n",
    "            +'@gmail.com')\n",
    "    return emails    "
   ]
  },
  {
   "cell_type": "code",
   "execution_count": 143,
   "id": "neural-launch",
   "metadata": {},
   "outputs": [],
   "source": [
    "emails = gen_emails(50)"
   ]
  },
  {
   "cell_type": "markdown",
   "id": "applied-sympathy",
   "metadata": {},
   "source": [
    "### Даты"
   ]
  },
  {
   "cell_type": "code",
   "execution_count": 278,
   "id": "technical-captain",
   "metadata": {},
   "outputs": [],
   "source": [
    "def gen_dates(n):\n",
    "    dates = []\n",
    "    for _ in range(n):\n",
    "        startdate=datetime.date(2017,12,20)\n",
    "        date=startdate+datetime.timedelta(rnd.randint(1,1462))\n",
    "        dates.append(date.strftime(\"%Y-%m-%d\"))\n",
    "    return dates"
   ]
  },
  {
   "cell_type": "code",
   "execution_count": 281,
   "id": "successful-commitment",
   "metadata": {},
   "outputs": [],
   "source": [
    "dates = gen_dates(50)"
   ]
  },
  {
   "cell_type": "markdown",
   "id": "pediatric-conspiracy",
   "metadata": {},
   "source": [
    "### Заполняем"
   ]
  },
  {
   "cell_type": "code",
   "execution_count": 169,
   "id": "annual-preliminary",
   "metadata": {},
   "outputs": [],
   "source": [
    "sss = f\"DELETE FROM members\" # delete all rows\n",
    "cur.execute(sss)\n",
    "con.commit()"
   ]
  },
  {
   "cell_type": "code",
   "execution_count": 171,
   "id": "dutch-stomach",
   "metadata": {},
   "outputs": [],
   "source": [
    "sss = f\"ALTER TABLE members AUTO_INCREMENT = 1\" # reset id to 1\n",
    "cur.execute(sss)\n",
    "con.commit()"
   ]
  },
  {
   "cell_type": "code",
   "execution_count": 172,
   "id": "funky-mouth",
   "metadata": {},
   "outputs": [
    {
     "data": {
      "text/plain": [
       "[]"
      ]
     },
     "execution_count": 172,
     "metadata": {},
     "output_type": "execute_result"
    }
   ],
   "source": [
    "cur.execute(\"SELECT * FROM members\") # check that table is clear\n",
    "data=cur.fetchall()\n",
    "data"
   ]
  },
  {
   "cell_type": "code",
   "execution_count": 282,
   "id": "beginning-alignment",
   "metadata": {},
   "outputs": [],
   "source": [
    "for info in list(zip(names, phones, emails, dates)):\n",
    "    sss = \"INSERT INTO members (name, phone, email, reg_date) \\\n",
    "            VALUES {}\".format(info)\n",
    "    cur.execute(sss)"
   ]
  },
  {
   "cell_type": "code",
   "execution_count": 287,
   "id": "consolidated-commerce",
   "metadata": {},
   "outputs": [],
   "source": [
    "con.commit()"
   ]
  },
  {
   "cell_type": "code",
   "execution_count": 292,
   "id": "impossible-shade",
   "metadata": {},
   "outputs": [
    {
     "data": {
      "text/plain": [
       "[{'id_member': 32,\n",
       "  'name': 'Черная Ника Романовна',\n",
       "  'phone': '89969320699',\n",
       "  'email': 'bwguvaui@gmail.com',\n",
       "  'reg_date': datetime.date(2018, 1, 8)}]"
      ]
     },
     "execution_count": 292,
     "metadata": {},
     "output_type": "execute_result"
    }
   ],
   "source": [
    "cur.execute(\"SELECT * FROM members ORDER BY reg_date LIMIT 1\")\n",
    "data=cur.fetchall()\n",
    "data"
   ]
  },
  {
   "cell_type": "markdown",
   "id": "maritime-quantity",
   "metadata": {},
   "source": [
    "# Жанры"
   ]
  },
  {
   "cell_type": "code",
   "execution_count": 35,
   "id": "unavailable-blanket",
   "metadata": {},
   "outputs": [],
   "source": [
    "sss = f\"DELETE FROM category\" # delete all rows\n",
    "cur.execute(sss)\n",
    "sss = f\"ALTER TABLE category AUTO_INCREMENT = 1\"\n",
    "cur.execute(sss)\n",
    "con.commit()"
   ]
  },
  {
   "cell_type": "code",
   "execution_count": 38,
   "id": "economic-wagner",
   "metadata": {},
   "outputs": [
    {
     "data": {
      "text/plain": [
       "[{'id_category': 1, 'cat_name': 'Кулинарные рецепты'},\n",
       " {'id_category': 2, 'cat_name': 'Современная русская проза'},\n",
       " {'id_category': 3, 'cat_name': 'Современные любовные романы'},\n",
       " {'id_category': 4, 'cat_name': 'Триллеры'},\n",
       " {'id_category': 5, 'cat_name': 'Журналистские расследования'},\n",
       " {'id_category': 6, 'cat_name': 'Эзотерические знания'},\n",
       " {'id_category': 7, 'cat_name': 'Эссе, письма, очерки'}]"
      ]
     },
     "execution_count": 38,
     "metadata": {},
     "output_type": "execute_result"
    }
   ],
   "source": [
    "cur.execute(\"SELECT * FROM category\") # check that table is clear\n",
    "data=cur.fetchall()\n",
    "data"
   ]
  },
  {
   "cell_type": "code",
   "execution_count": 26,
   "id": "understood-factory",
   "metadata": {},
   "outputs": [],
   "source": [
    "categories = ['Кулинарные рецепты', 'Современная русская проза', 'Современные любовные романы',\\\n",
    "             'Триллеры', 'Журналистские расследования', 'Эзотерические знания', 'Эссе, письма, очерки']"
   ]
  },
  {
   "cell_type": "code",
   "execution_count": 37,
   "id": "convenient-surface",
   "metadata": {},
   "outputs": [],
   "source": [
    "for cat in categories:\n",
    "    sss = \"INSERT INTO category (cat_name) VALUES ('{}')\".format(cat)\n",
    "    cur.execute(sss)"
   ]
  },
  {
   "cell_type": "code",
   "execution_count": 39,
   "id": "painted-literacy",
   "metadata": {},
   "outputs": [],
   "source": [
    "con.commit()"
   ]
  },
  {
   "cell_type": "code",
   "execution_count": 177,
   "id": "lightweight-flesh",
   "metadata": {},
   "outputs": [
    {
     "data": {
      "text/plain": [
       "[{'id_category': 1, 'cat_name': 'Кулинарные рецепты'},\n",
       " {'id_category': 2, 'cat_name': 'Современная русская проза'},\n",
       " {'id_category': 3, 'cat_name': 'Современные любовные романы'},\n",
       " {'id_category': 4, 'cat_name': 'Триллеры'},\n",
       " {'id_category': 5, 'cat_name': 'Журналистские расследования'},\n",
       " {'id_category': 6, 'cat_name': 'Эзотерические знания'},\n",
       " {'id_category': 7, 'cat_name': 'Эссе, письма, очерки'}]"
      ]
     },
     "execution_count": 177,
     "metadata": {},
     "output_type": "execute_result"
    }
   ],
   "source": [
    "cur.execute(\"SELECT * FROM category\") # check that table is clear\n",
    "data=cur.fetchall()\n",
    "data"
   ]
  },
  {
   "cell_type": "markdown",
   "id": "ready-passage",
   "metadata": {},
   "source": [
    "# Книжки"
   ]
  },
  {
   "cell_type": "markdown",
   "id": "addressed-electron",
   "metadata": {},
   "source": [
    "Очищаем таблицу"
   ]
  },
  {
   "cell_type": "code",
   "execution_count": 409,
   "id": "selective-curve",
   "metadata": {},
   "outputs": [],
   "source": [
    "sss = f\"DELETE FROM books\" # delete all rows\n",
    "cur.execute(sss)\n",
    "sss = f\"ALTER TABLE books AUTO_INCREMENT = 1\"\n",
    "cur.execute(sss)\n",
    "con.commit()"
   ]
  },
  {
   "cell_type": "code",
   "execution_count": 410,
   "id": "mediterranean-yield",
   "metadata": {},
   "outputs": [
    {
     "data": {
      "text/plain": [
       "[]"
      ]
     },
     "execution_count": 410,
     "metadata": {},
     "output_type": "execute_result"
    }
   ],
   "source": [
    "cur.execute(\"SELECT * FROM books\") # check that table is clear\n",
    "data=cur.fetchall()\n",
    "data"
   ]
  },
  {
   "cell_type": "markdown",
   "id": "magnetic-tiffany",
   "metadata": {},
   "source": [
    "Собираем книжки"
   ]
  },
  {
   "cell_type": "code",
   "execution_count": 8,
   "id": "molecular-agenda",
   "metadata": {},
   "outputs": [],
   "source": [
    "link = 'https://book24.ru/novie-knigi/'\n",
    "result = requests.get(link)\n",
    "html = result.text\n",
    "soup = BeautifulSoup(html,'html.parser')\n",
    "info = soup.find_all('div', {'class':'product-card__content'})"
   ]
  },
  {
   "cell_type": "code",
   "execution_count": 9,
   "id": "unnecessary-culture",
   "metadata": {},
   "outputs": [
    {
     "name": "stdout",
     "output_type": "stream",
     "text": [
      "<div class=\"product-card__content\"><!-- --><div class=\"client-only-placeholder\"><div class=\"vue-content-placeholders vue-content-placeholders-is-rounded vue-content-placeholders-is-animated\" style=\"height:24px;\"><div class=\"vue-content-placeholders-img\" style=\"height:18px;width:150px;border-radius:9px;\"></div></div></div><a class=\"product-card__name smartLink\" href=\"/product/games-nastolnaya-igra-dzhenga-a2120-217585/\" title=\"Настольная игра «Дженга»\"> Настольная игра «Дженга» </a><!-- --><div class=\"product-card__buttons-holder\"><button class=\"b24-btn product-card__add-to-cart _secondary _small _block\" type=\"button\"><!-- --> <span class=\"b24-btn__content\"> В корзину </span></button><button aria-label=\"Отложить в избранное\" class=\"add-favorites product-card__add-favorites\" type=\"button\"><svg class=\"add-favorites__icon icon sprite-24\" height=\"24\" width=\"24\" xmlns=\"http://www.w3.org/2000/svg\"><use href=\"/_nuxt/2925ed9ad4326d4b8da87d5b79cf5b33.svg#i-add-bookmark-24\" xlink:href=\"/_nuxt/2925ed9ad4326d4b8da87d5b79cf5b33.svg#i-add-bookmark-24\"></use></svg><!-- --></button></div></div>\n"
     ]
    }
   ],
   "source": [
    "authors = []\n",
    "for book in info:\n",
    "    inf = book.find_all('a', {'class':'author-list__item smartLink'})\n",
    "    if len(inf) == 1:\n",
    "        authors.append([inf[0].get_text()])\n",
    "    elif len(inf) == 0:\n",
    "        try:\n",
    "            inf = book.find_all('span', {'class':'author-list__item'})\n",
    "            authors.append([inf[0].get_text()])\n",
    "        except:\n",
    "            print(book)\n",
    "    else:\n",
    "        au = [i.get_text() for i in inf]\n",
    "        authors.append(au)"
   ]
  },
  {
   "cell_type": "code",
   "execution_count": 10,
   "id": "proved-antique",
   "metadata": {},
   "outputs": [
    {
     "data": {
      "text/plain": [
       "[['Сергей Тармашев'],\n",
       " ['Дженнифер Арментроут'],\n",
       " ['Дина Рубина'],\n",
       " ['Том Гримм'],\n",
       " ['Лия Стеффи'],\n",
       " ['Уилл Смит', 'Марк Мэнсон'],\n",
       " ['Себастьян Перез'],\n",
       " ['Виктория Кирдий'],\n",
       " ['Джеральд Бром'],\n",
       " ['Майк Омер'],\n",
       " ['Борис Гребенщиков'],\n",
       " ['Джо Аберкромби'],\n",
       " ['Дмитрий Веремеенко', 'Александр Фединцев', 'Бегмуродова Нигина Шавкатовна'],\n",
       " ['Рошани Чокши'],\n",
       " ['Дмитрий Туркан'],\n",
       " ['Лия Арден'],\n",
       " ['Ганс Андерсен', 'Эрнст Гофман', 'Гримм Якоб и Вильгельм'],\n",
       " ['Сергей Леонов', 'Татьяна Пахмутова-Манн'],\n",
       " ['Константин Малофеев'],\n",
       " ['Таня Лапуант'],\n",
       " ['Натали Макиенко'],\n",
       " ['Михаил Парфенов', 'Максим Кабир'],\n",
       " ['Леонид Парфенов'],\n",
       " ['Алекс Анжело'],\n",
       " ['Яцек Пекара'],\n",
       " ['Марина Мелия'],\n",
       " ['Борис Акунин'],\n",
       " ['Ирина Лилло'],\n",
       " ['Денис Ступников']]"
      ]
     },
     "execution_count": 10,
     "metadata": {},
     "output_type": "execute_result"
    }
   ],
   "source": [
    "authors"
   ]
  },
  {
   "cell_type": "code",
   "execution_count": 11,
   "id": "minute-treasure",
   "metadata": {},
   "outputs": [],
   "source": [
    "books = soup.find_all('a', {'class':'product-card__name smartLink'})"
   ]
  },
  {
   "cell_type": "code",
   "execution_count": 12,
   "id": "suspected-medicare",
   "metadata": {},
   "outputs": [],
   "source": [
    "books = [b.get_text().strip() for b in books]"
   ]
  },
  {
   "cell_type": "code",
   "execution_count": 13,
   "id": "prescription-creation",
   "metadata": {},
   "outputs": [],
   "source": [
    "books.remove('Настольная игра «Дженга»')"
   ]
  },
  {
   "cell_type": "code",
   "execution_count": 14,
   "id": "deadly-gathering",
   "metadata": {},
   "outputs": [
    {
     "data": {
      "text/plain": [
       "['Древний. Предыстория. Книга девятая. Мирные времена',\n",
       " 'Королевство плоти и огня',\n",
       " 'Маньяк Гуревич',\n",
       " 'Кулинарная книга Гарри Поттера. Иллюстрированное неофициальное издание',\n",
       " 'Мутный']"
      ]
     },
     "execution_count": 14,
     "metadata": {},
     "output_type": "execute_result"
    }
   ],
   "source": [
    "books[:5]"
   ]
  },
  {
   "cell_type": "code",
   "execution_count": 463,
   "id": "respiratory-disney",
   "metadata": {},
   "outputs": [],
   "source": [
    "for book in books:\n",
    "    category = str(rnd.randint(1, 7))\n",
    "    pub_year = str(rnd.randint(2010, 2020))\n",
    "    language = rnd.choice(['ru', 'en'])\n",
    "    publisher = rnd.choice(['АСТ', 'Corpus', 'Эксмо'])\n",
    "    num_copies = str(rnd.randint(1, 20))\n",
    "#     num_avail = str(rnd.randint(0, num_copies))\n",
    "    sss = \"INSERT INTO books (title, category, pub_year, language, \\\n",
    "            publisher, num_copies, num_available) \\\n",
    "            VALUES ('{}')\".format(\"', '\".join([book, category, pub_year, language, \\\n",
    "                                              publisher, num_copies, num_copies]))\n",
    "    cur.execute(sss)"
   ]
  },
  {
   "cell_type": "code",
   "execution_count": 465,
   "id": "black-portuguese",
   "metadata": {},
   "outputs": [],
   "source": [
    "con.commit()"
   ]
  },
  {
   "cell_type": "code",
   "execution_count": 90,
   "id": "destroyed-extra",
   "metadata": {},
   "outputs": [
    {
     "data": {
      "text/plain": [
       "[{'id_book': 1,\n",
       "  'title': 'Древний. Предыстория. Книга девятая. Мирные времена',\n",
       "  'pub_year': 2015,\n",
       "  'language': 'ru',\n",
       "  'publisher': 'Эксмо',\n",
       "  'category': 1,\n",
       "  'num_copies': 5,\n",
       "  'num_available': 1},\n",
       " {'id_book': 2,\n",
       "  'title': 'Маньяк Гуревич',\n",
       "  'pub_year': 2014,\n",
       "  'language': 'ru',\n",
       "  'publisher': 'АСТ',\n",
       "  'category': 2,\n",
       "  'num_copies': 13,\n",
       "  'num_available': 13},\n",
       " {'id_book': 3,\n",
       "  'title': 'Кулинарная книга Гарри Поттера. Иллюстрированное неофициальное издание',\n",
       "  'pub_year': 2012,\n",
       "  'language': 'en',\n",
       "  'publisher': 'АСТ',\n",
       "  'category': 3,\n",
       "  'num_copies': 14,\n",
       "  'num_available': 14},\n",
       " {'id_book': 4,\n",
       "  'title': 'Королевство плоти и огня',\n",
       "  'pub_year': 2018,\n",
       "  'language': 'ru',\n",
       "  'publisher': 'Corpus',\n",
       "  'category': 5,\n",
       "  'num_copies': 5,\n",
       "  'num_available': 5},\n",
       " {'id_book': 5,\n",
       "  'title': 'Дом Гуччи. Сенсационная история убийства, безумия, гламура и жадности',\n",
       "  'pub_year': 2015,\n",
       "  'language': 'en',\n",
       "  'publisher': 'АСТ',\n",
       "  'category': 6,\n",
       "  'num_copies': 12,\n",
       "  'num_available': 12},\n",
       " {'id_book': 6,\n",
       "  'title': 'Правление волков',\n",
       "  'pub_year': 2014,\n",
       "  'language': 'ru',\n",
       "  'publisher': 'АСТ',\n",
       "  'category': 4,\n",
       "  'num_copies': 20,\n",
       "  'num_available': 18},\n",
       " {'id_book': 7,\n",
       "  'title': 'Мутный',\n",
       "  'pub_year': 2020,\n",
       "  'language': 'ru',\n",
       "  'publisher': 'Corpus',\n",
       "  'category': 3,\n",
       "  'num_copies': 2,\n",
       "  'num_available': 1},\n",
       " {'id_book': 8,\n",
       "  'title': 'Will. Чему может научить нас простой парень, ставший самым высокооплачиваемым актером Голливуда',\n",
       "  'pub_year': 2018,\n",
       "  'language': 'ru',\n",
       "  'publisher': 'Эксмо',\n",
       "  'category': 1,\n",
       "  'num_copies': 1,\n",
       "  'num_available': 0},\n",
       " {'id_book': 9,\n",
       "  'title': 'Волшебник страны Оз',\n",
       "  'pub_year': 2011,\n",
       "  'language': 'ru',\n",
       "  'publisher': 'АСТ',\n",
       "  'category': 4,\n",
       "  'num_copies': 8,\n",
       "  'num_available': 6},\n",
       " {'id_book': 10,\n",
       "  'title': 'Улыбки и радость каждый день. Календарь на 2022 год',\n",
       "  'pub_year': 2014,\n",
       "  'language': 'en',\n",
       "  'publisher': 'Corpus',\n",
       "  'category': 6,\n",
       "  'num_copies': 20,\n",
       "  'num_available': 18},\n",
       " {'id_book': 11,\n",
       "  'title': 'Косиног: История о колдовстве',\n",
       "  'pub_year': 2016,\n",
       "  'language': 'ru',\n",
       "  'publisher': 'Эксмо',\n",
       "  'category': 7,\n",
       "  'num_copies': 19,\n",
       "  'num_available': 19},\n",
       " {'id_book': 12,\n",
       "  'title': 'Как ты умрешь',\n",
       "  'pub_year': 2019,\n",
       "  'language': 'en',\n",
       "  'publisher': 'Corpus',\n",
       "  'category': 3,\n",
       "  'num_copies': 14,\n",
       "  'num_available': 13},\n",
       " {'id_book': 13,\n",
       "  'title': 'Бонусные годы. Индивидуальный план продления молодости на основе последних научных открытий',\n",
       "  'pub_year': 2011,\n",
       "  'language': 'en',\n",
       "  'publisher': 'Corpus',\n",
       "  'category': 2,\n",
       "  'num_copies': 4,\n",
       "  'num_available': 4},\n",
       " {'id_book': 14,\n",
       "  'title': 'Священные места Индии',\n",
       "  'pub_year': 2012,\n",
       "  'language': 'en',\n",
       "  'publisher': 'Эксмо',\n",
       "  'category': 2,\n",
       "  'num_copies': 7,\n",
       "  'num_available': 6},\n",
       " {'id_book': 15,\n",
       "  'title': 'Мудрость толпы',\n",
       "  'pub_year': 2012,\n",
       "  'language': 'ru',\n",
       "  'publisher': 'Эксмо',\n",
       "  'category': 4,\n",
       "  'num_copies': 17,\n",
       "  'num_available': 17},\n",
       " {'id_book': 16,\n",
       "  'title': 'Магия флористики. Авторский курс аранжировки композиций: идеи, стиль и профессиональные приемы от Дмитрия Туркана',\n",
       "  'pub_year': 2012,\n",
       "  'language': 'en',\n",
       "  'publisher': 'Corpus',\n",
       "  'category': 6,\n",
       "  'num_copies': 9,\n",
       "  'num_available': 8},\n",
       " {'id_book': 17,\n",
       "  'title': 'Бронзовые звери',\n",
       "  'pub_year': 2014,\n",
       "  'language': 'ru',\n",
       "  'publisher': 'Corpus',\n",
       "  'category': 1,\n",
       "  'num_copies': 18,\n",
       "  'num_available': 17},\n",
       " {'id_book': 18,\n",
       "  'title': 'ЗОЖигательные праздники. Еда под вино!',\n",
       "  'pub_year': 2018,\n",
       "  'language': 'ru',\n",
       "  'publisher': 'Эксмо',\n",
       "  'category': 3,\n",
       "  'num_copies': 20,\n",
       "  'num_available': 19},\n",
       " {'id_book': 19,\n",
       "  'title': 'Ресурс для сильной девочки: пошаговый детокс-план на каждый сезон',\n",
       "  'pub_year': 2011,\n",
       "  'language': 'ru',\n",
       "  'publisher': 'Corpus',\n",
       "  'category': 5,\n",
       "  'num_copies': 14,\n",
       "  'num_available': 13},\n",
       " {'id_book': 20,\n",
       "  'title': 'Снежная королева. Щелкунчик. Госпожа Метелица',\n",
       "  'pub_year': 2013,\n",
       "  'language': 'ru',\n",
       "  'publisher': 'Corpus',\n",
       "  'category': 7,\n",
       "  'num_copies': 7,\n",
       "  'num_available': 4},\n",
       " {'id_book': 21,\n",
       "  'title': 'Намедни. Наша эра. 2011-2015',\n",
       "  'pub_year': 2012,\n",
       "  'language': 'en',\n",
       "  'publisher': 'Эксмо',\n",
       "  'category': 1,\n",
       "  'num_copies': 10,\n",
       "  'num_available': 7},\n",
       " {'id_book': 22,\n",
       "  'title': 'Самая страшная книга 2022',\n",
       "  'pub_year': 2019,\n",
       "  'language': 'en',\n",
       "  'publisher': 'Эксмо',\n",
       "  'category': 2,\n",
       "  'num_copies': 11,\n",
       "  'num_available': 11},\n",
       " {'id_book': 23,\n",
       "  'title': 'Империя. Книга первая',\n",
       "  'pub_year': 2014,\n",
       "  'language': 'ru',\n",
       "  'publisher': 'АСТ',\n",
       "  'category': 3,\n",
       "  'num_copies': 11,\n",
       "  'num_available': 11},\n",
       " {'id_book': 24,\n",
       "  'title': 'Дюна. Иллюстрированная история создания классики научной фантастики',\n",
       "  'pub_year': 2013,\n",
       "  'language': 'ru',\n",
       "  'publisher': 'Corpus',\n",
       "  'category': 5,\n",
       "  'num_copies': 14,\n",
       "  'num_available': 14},\n",
       " {'id_book': 25,\n",
       "  'title': 'Метод Марины Мелия. Как усилить свою силу',\n",
       "  'pub_year': 2015,\n",
       "  'language': 'ru',\n",
       "  'publisher': 'Corpus',\n",
       "  'category': 6,\n",
       "  'num_copies': 2,\n",
       "  'num_available': 0},\n",
       " {'id_book': 26,\n",
       "  'title': 'Меч ангелов',\n",
       "  'pub_year': 2013,\n",
       "  'language': 'en',\n",
       "  'publisher': 'Эксмо',\n",
       "  'category': 5,\n",
       "  'num_copies': 3,\n",
       "  'num_available': 1},\n",
       " {'id_book': 27,\n",
       "  'title': 'После тяжелой продолжительной болезни. Время Николая II',\n",
       "  'pub_year': 2013,\n",
       "  'language': 'en',\n",
       "  'publisher': 'Эксмо',\n",
       "  'category': 6,\n",
       "  'num_copies': 10,\n",
       "  'num_available': 10},\n",
       " {'id_book': 28,\n",
       "  'title': 'Сон и Пепел',\n",
       "  'pub_year': 2017,\n",
       "  'language': 'ru',\n",
       "  'publisher': 'Corpus',\n",
       "  'category': 7,\n",
       "  'num_copies': 6,\n",
       "  'num_available': 6},\n",
       " {'id_book': 29,\n",
       "  'title': 'Формула мечты. Путь к счастливой жизни, в которой исполняются даже самые смелые желания',\n",
       "  'pub_year': 2016,\n",
       "  'language': 'ru',\n",
       "  'publisher': 'Эксмо',\n",
       "  'category': 1,\n",
       "  'num_copies': 4,\n",
       "  'num_available': 4}]"
      ]
     },
     "execution_count": 90,
     "metadata": {},
     "output_type": "execute_result"
    }
   ],
   "source": [
    "cur.execute('SELECT * FROM books')\n",
    "data=cur.fetchall()\n",
    "data"
   ]
  },
  {
   "cell_type": "markdown",
   "id": "going-shareware",
   "metadata": {},
   "source": [
    "# authors"
   ]
  },
  {
   "cell_type": "code",
   "execution_count": 497,
   "id": "dental-expansion",
   "metadata": {},
   "outputs": [],
   "source": [
    "sss = f\"DELETE FROM authors\" # delete all rows\n",
    "cur.execute(sss)\n",
    "sss = f\"ALTER TABLE authors AUTO_INCREMENT = 1\"\n",
    "cur.execute(sss)\n",
    "con.commit()"
   ]
  },
  {
   "cell_type": "code",
   "execution_count": 498,
   "id": "wicked-mattress",
   "metadata": {},
   "outputs": [
    {
     "data": {
      "text/plain": [
       "[]"
      ]
     },
     "execution_count": 498,
     "metadata": {},
     "output_type": "execute_result"
    }
   ],
   "source": [
    "cur.execute('SELECT * FROM authors')\n",
    "data=cur.fetchall()\n",
    "data"
   ]
  },
  {
   "cell_type": "code",
   "execution_count": 483,
   "id": "taken-scanner",
   "metadata": {},
   "outputs": [],
   "source": [
    "authors_set = []\n",
    "for elem in authors:\n",
    "    if isinstance(elem, list):\n",
    "        authors_set.extend(elem)\n",
    "    else:\n",
    "        authors_set.append(elem)"
   ]
  },
  {
   "cell_type": "code",
   "execution_count": 491,
   "id": "surprising-directory",
   "metadata": {},
   "outputs": [],
   "source": [
    "authors_set = set(authors_set)"
   ]
  },
  {
   "cell_type": "code",
   "execution_count": 499,
   "id": "parental-porcelain",
   "metadata": {},
   "outputs": [],
   "source": [
    "for author in authors_set:\n",
    "    sss = \"INSERT INTO authors (name) \\\n",
    "            VALUES ('{}')\".format(author)\n",
    "    cur.execute(sss)"
   ]
  },
  {
   "cell_type": "code",
   "execution_count": 501,
   "id": "sitting-front",
   "metadata": {},
   "outputs": [],
   "source": [
    "con.commit()"
   ]
  },
  {
   "cell_type": "code",
   "execution_count": 503,
   "id": "attended-forty",
   "metadata": {},
   "outputs": [
    {
     "data": {
      "text/plain": [
       "[{'id_author': 1, 'name': 'Том Гримм'},\n",
       " {'id_author': 2, 'name': 'Ирина Лилло'},\n",
       " {'id_author': 3, 'name': 'Джо Аберкромби'},\n",
       " {'id_author': 4, 'name': 'Константин Малофеев'},\n",
       " {'id_author': 5, 'name': 'Ли Бардуго'},\n",
       " {'id_author': 6, 'name': 'Таня Лапуант'},\n",
       " {'id_author': 7, 'name': 'Дмитрий Туркан'},\n",
       " {'id_author': 8, 'name': 'Дина Рубина'},\n",
       " {'id_author': 9, 'name': 'Натали Макиенко'},\n",
       " {'id_author': 10, 'name': 'Сергей Тармашев'},\n",
       " {'id_author': 11, 'name': 'Дженнифер Арментроут'},\n",
       " {'id_author': 12, 'name': 'Татьяна Пахмутова-Манн'},\n",
       " {'id_author': 13, 'name': 'Себастьян Перез'},\n",
       " {'id_author': 14, 'name': 'Рошани Чокши'},\n",
       " {'id_author': 15, 'name': 'Лия Стеффи'},\n",
       " {'id_author': 16, 'name': 'Александр Фединцев'},\n",
       " {'id_author': 17, 'name': 'Дмитрий Веремеенко'},\n",
       " {'id_author': 18, 'name': 'Сергей Леонов'},\n",
       " {'id_author': 19, 'name': 'Бегмуродова Нигина Шавкатовна'},\n",
       " {'id_author': 20, 'name': 'Гримм Якоб и Вильгельм'},\n",
       " {'id_author': 21, 'name': 'Яцек Пекара'},\n",
       " {'id_author': 22, 'name': 'Виктория Кирдий'},\n",
       " {'id_author': 23, 'name': 'Эрнст Гофман'},\n",
       " {'id_author': 24, 'name': 'Алекс Анжело'},\n",
       " {'id_author': 25, 'name': 'Максим Кабир'},\n",
       " {'id_author': 26, 'name': 'Борис Гребенщиков'},\n",
       " {'id_author': 27, 'name': 'Борис Акунин'},\n",
       " {'id_author': 28, 'name': 'Уилл Смит'},\n",
       " {'id_author': 29, 'name': 'Леонид Парфенов'},\n",
       " {'id_author': 30, 'name': 'Джеральд Бром'},\n",
       " {'id_author': 31, 'name': 'Михаил Парфенов'},\n",
       " {'id_author': 32, 'name': 'Марина Мелия'},\n",
       " {'id_author': 33, 'name': 'Марк Мэнсон'},\n",
       " {'id_author': 34, 'name': 'Сара Гэй Форден'},\n",
       " {'id_author': 35, 'name': 'Майк Омер'},\n",
       " {'id_author': 36, 'name': 'Ганс Андерсен'}]"
      ]
     },
     "execution_count": 503,
     "metadata": {},
     "output_type": "execute_result"
    }
   ],
   "source": [
    "cur.execute('SELECT * FROM authors')\n",
    "data=cur.fetchall()\n",
    "data"
   ]
  },
  {
   "cell_type": "markdown",
   "id": "checked-parallel",
   "metadata": {},
   "source": [
    "# authors2books"
   ]
  },
  {
   "cell_type": "code",
   "execution_count": 85,
   "id": "traditional-frame",
   "metadata": {},
   "outputs": [],
   "source": [
    "sss = f\"DELETE FROM authors2books\" # delete all rows\n",
    "cur.execute(sss)\n",
    "sss = f\"ALTER TABLE authors2books AUTO_INCREMENT = 1\"\n",
    "cur.execute(sss)\n",
    "con.commit()"
   ]
  },
  {
   "cell_type": "code",
   "execution_count": 91,
   "id": "educational-lawrence",
   "metadata": {},
   "outputs": [
    {
     "data": {
      "text/plain": [
       "[]"
      ]
     },
     "execution_count": 91,
     "metadata": {},
     "output_type": "execute_result"
    }
   ],
   "source": [
    "cur.execute(\"SELECT * FROM books\")\n",
    "data=cur.fetchall()\n",
    "data"
   ]
  },
  {
   "cell_type": "code",
   "execution_count": 82,
   "id": "diagnostic-sewing",
   "metadata": {},
   "outputs": [],
   "source": [
    "authors = [['Сергей Тармашев'],\n",
    " ['Дина Рубина'],\n",
    " ['Том Гримм'],  ['Дженнифер Арментроут'],\n",
    " ['Сара Гэй Форден'], ['Ли Бардуго'], ['Лия Стеффи'],\n",
    " ['Уилл Смит', 'Марк Мэнсон'],\n",
    " ['Себастьян Перез'],\n",
    " ['Виктория Кирдий'],\n",
    " ['Джеральд Бром'],\n",
    " ['Майк Омер'], ['Дмитрий Веремеенко', 'Александр Фединцев', 'Бегмуродова Нигина Шавкатовна'],\n",
    " ['Борис Гребенщиков'],\n",
    " ['Джо Аберкромби'], ['Дмитрий Туркан'],\n",
    " ['Рошани Чокши'], ['Сергей Леонов', 'Татьяна Пахмутова-Манн'],\n",
    " ['Натали Макиенко'],\n",
    " ['Ганс Андерсен', 'Эрнст Гофман', 'Гримм Якоб и Вильгельм'],\n",
    " ['Леонид Парфенов'], ['Михаил Парфенов', 'Максим Кабир'],\n",
    " ['Константин Малофеев'],\n",
    " ['Таня Лапуант'],\n",
    " ['Марина Мелия'],\n",
    " ['Яцек Пекара'],\n",
    " ['Борис Акунин'],\n",
    " ['Алекс Анжело'],\n",
    " ['Ирина Лилло']]"
   ]
  },
  {
   "cell_type": "code",
   "execution_count": 58,
   "id": "banner-wyoming",
   "metadata": {},
   "outputs": [],
   "source": [
    "books = [book['title'] for book in data]"
   ]
  },
  {
   "cell_type": "code",
   "execution_count": 92,
   "id": "romance-counter",
   "metadata": {},
   "outputs": [],
   "source": [
    "for author_book in list(zip(authors, books)):\n",
    "    cur.execute(\"SELECT id_book FROM books\\\n",
    "                WHERE title LIKE '{}'\".format(author_book[1]))\n",
    "    id_book = cur.fetchall()[0]['id_book']\n",
    "    \n",
    "    \n",
    "    for author in author_book[0]:\n",
    "        cur.execute(\"SELECT id_author FROM authors\\\n",
    "                    WHERE name LIKE '{}'\".format(author))\n",
    "        id_author=cur.fetchall()[0]['id_author']\n",
    "        \n",
    "        sss = \"INSERT INTO authors2books (id_author, id_book) \\\n",
    "            VALUES ('{}')\".format(\"', '\".join([str(id_author), str(id_book)]))    \n",
    "        cur.execute(sss)\n",
    "        con.commit()"
   ]
  },
  {
   "cell_type": "code",
   "execution_count": 537,
   "id": "indian-ideal",
   "metadata": {},
   "outputs": [
    {
     "data": {
      "text/plain": [
       "[{'id_author': 12,\n",
       "  'id_book': 18,\n",
       "  'name': 'Татьяна Пахмутова-Манн',\n",
       "  'title': 'ЗОЖигательные праздники. Еда под вино!',\n",
       "  'category': 1,\n",
       "  'pub_year': 2018,\n",
       "  'language': 'ru',\n",
       "  'publisher': 'Эксмо',\n",
       "  'num_copies': 20,\n",
       "  'num_available': 14}]"
      ]
     },
     "execution_count": 537,
     "metadata": {},
     "output_type": "execute_result"
    }
   ],
   "source": [
    "cur.execute(\"SELECT * FROM authors2books, authors, books\\\n",
    "            WHERE books.id_book=authors2books.id_book AND \\\n",
    "            authors.id_author=authors2books.id_author AND \\\n",
    "            authors.id_author=12\")\n",
    "data=cur.fetchall()\n",
    "data"
   ]
  },
  {
   "cell_type": "code",
   "execution_count": 6,
   "id": "incident-reliance",
   "metadata": {},
   "outputs": [
    {
     "data": {
      "text/plain": [
       "[{'id_author': 10, 'id_book': 1},\n",
       " {'id_author': 8, 'id_book': 2},\n",
       " {'id_author': 1, 'id_book': 3},\n",
       " {'id_author': 11, 'id_book': 4},\n",
       " {'id_author': 34, 'id_book': 5},\n",
       " {'id_author': 5, 'id_book': 6},\n",
       " {'id_author': 15, 'id_book': 7},\n",
       " {'id_author': 28, 'id_book': 8},\n",
       " {'id_author': 33, 'id_book': 8},\n",
       " {'id_author': 13, 'id_book': 9},\n",
       " {'id_author': 22, 'id_book': 10},\n",
       " {'id_author': 30, 'id_book': 11},\n",
       " {'id_author': 35, 'id_book': 12},\n",
       " {'id_author': 17, 'id_book': 13},\n",
       " {'id_author': 16, 'id_book': 13},\n",
       " {'id_author': 19, 'id_book': 13},\n",
       " {'id_author': 26, 'id_book': 14},\n",
       " {'id_author': 3, 'id_book': 15},\n",
       " {'id_author': 7, 'id_book': 16},\n",
       " {'id_author': 14, 'id_book': 17},\n",
       " {'id_author': 18, 'id_book': 18},\n",
       " {'id_author': 12, 'id_book': 18},\n",
       " {'id_author': 9, 'id_book': 19},\n",
       " {'id_author': 36, 'id_book': 20},\n",
       " {'id_author': 23, 'id_book': 20},\n",
       " {'id_author': 20, 'id_book': 20},\n",
       " {'id_author': 29, 'id_book': 21},\n",
       " {'id_author': 31, 'id_book': 22},\n",
       " {'id_author': 25, 'id_book': 22},\n",
       " {'id_author': 4, 'id_book': 23},\n",
       " {'id_author': 6, 'id_book': 24},\n",
       " {'id_author': 32, 'id_book': 25},\n",
       " {'id_author': 21, 'id_book': 26},\n",
       " {'id_author': 27, 'id_book': 27},\n",
       " {'id_author': 24, 'id_book': 28},\n",
       " {'id_author': 2, 'id_book': 29}]"
      ]
     },
     "execution_count": 6,
     "metadata": {},
     "output_type": "execute_result"
    }
   ],
   "source": [
    "cur.execute(\"SELECT * FROM authors2books\")\n",
    "data=cur.fetchall()\n",
    "data"
   ]
  },
  {
   "cell_type": "markdown",
   "id": "imposed-limitation",
   "metadata": {},
   "source": [
    "# Loans"
   ]
  },
  {
   "cell_type": "code",
   "execution_count": 606,
   "id": "innocent-lender",
   "metadata": {},
   "outputs": [],
   "source": [
    "sss = f\"DELETE FROM loans\" # delete all rows\n",
    "cur.execute(sss)\n",
    "sss = f\"ALTER TABLE loans AUTO_INCREMENT = 1\"\n",
    "cur.execute(sss)\n",
    "con.commit()"
   ]
  },
  {
   "cell_type": "code",
   "execution_count": 607,
   "id": "convinced-catholic",
   "metadata": {},
   "outputs": [
    {
     "data": {
      "text/plain": [
       "[]"
      ]
     },
     "execution_count": 607,
     "metadata": {},
     "output_type": "execute_result"
    }
   ],
   "source": [
    "cur.execute(\"SELECT * FROM loans\")\n",
    "data=cur.fetchall()\n",
    "data"
   ]
  },
  {
   "cell_type": "code",
   "execution_count": 615,
   "id": "marked-taxation",
   "metadata": {},
   "outputs": [],
   "source": [
    "cur.execute(\"SELECT id_member, reg_date FROM members\")\n",
    "members=cur.fetchall()\n",
    "\n",
    "for _ in range(40):\n",
    "    member_info = rnd.choice(members)\n",
    "    id_member, reg_date = str(member_info['id_member']), member_info['reg_date']\n",
    "    \n",
    "    cur.execute(\"SELECT id_book, num_available FROM books WHERE num_available > 0\")\n",
    "    books = cur.fetchall()\n",
    "    book_info = rnd.choice(books)\n",
    "    num_avail, id_book = book_info['num_available'], str(book_info['id_book'])\n",
    "    \n",
    "    date_st = reg_date + datetime.timedelta(days=rnd.randint(0,1460))\n",
    "    date_end = date_st + datetime.timedelta(days=30)\n",
    "    act_ret = rnd.choice([date_st + datetime.timedelta(days=rnd.randint(5,73)), None])\n",
    "    \n",
    "    date_end = date_end.strftime(\"%Y-%m-%d\")\n",
    "    date_st = date_st.strftime(\"%Y-%m-%d\")\n",
    "    if act_ret is None:\n",
    "        sss = \"INSERT INTO loans (members_id, book_id, date_st, date_end) \\\n",
    "                VALUES ('{}')\".format(\"', '\".join([id_member, id_book, date_st, date_end])) \n",
    "        cur.execute(sss)\n",
    "    else:\n",
    "        act_ret = act_ret.strftime(\"%Y-%m-%d\")\n",
    "        sss = \"INSERT INTO loans (members_id, book_id, date_st, date_end, actual_return) \\\n",
    "            VALUES ('{}')\".format(\"', '\".join([id_member, id_book, date_st, date_end, act_ret])) \n",
    "        cur.execute(sss)\n",
    "    \n",
    "    update = \"UPDATE books SET num_available = {} WHERE id_book = {}\".format(num_avail-1, id_book) \n",
    "    cur.execute(update)\n",
    "\n",
    "con.commit()"
   ]
  },
  {
   "cell_type": "markdown",
   "id": "asian-launch",
   "metadata": {},
   "source": [
    "Даты возврата мы вписали, но счетчик в books не обновили. Сделаем же это"
   ]
  },
  {
   "cell_type": "code",
   "execution_count": 117,
   "id": "lightweight-terrain",
   "metadata": {},
   "outputs": [
    {
     "data": {
      "text/plain": [
       "[{'CNT': 1, 'book_id': 4},\n",
       " {'CNT': 1, 'book_id': 7},\n",
       " {'CNT': 1, 'book_id': 9},\n",
       " {'CNT': 1, 'book_id': 10},\n",
       " {'CNT': 1, 'book_id': 12},\n",
       " {'CNT': 1, 'book_id': 17},\n",
       " {'CNT': 1, 'book_id': 19},\n",
       " {'CNT': 2, 'book_id': 20},\n",
       " {'CNT': 1, 'book_id': 21},\n",
       " {'CNT': 2, 'book_id': 22},\n",
       " {'CNT': 1, 'book_id': 23},\n",
       " {'CNT': 1, 'book_id': 26},\n",
       " {'CNT': 1, 'book_id': 27},\n",
       " {'CNT': 1, 'book_id': 29}]"
      ]
     },
     "execution_count": 117,
     "metadata": {},
     "output_type": "execute_result"
    }
   ],
   "source": [
    "# выбираем книжки, которые вернули\n",
    "cur.execute(\"SELECT COUNT(*) AS CNT, book_id FROM loans\\\n",
    "            WHERE actual_return IS NOT NULL GROUP BY book_id\")\n",
    "update_cnt=cur.fetchall()\n",
    "update_cnt"
   ]
  },
  {
   "cell_type": "code",
   "execution_count": 127,
   "id": "broad-murder",
   "metadata": {},
   "outputs": [],
   "source": [
    "# update num_available\n",
    "for u in update_cnt:\n",
    "    cur.execute(\"UPDATE books SET num_available=num_available + {} \\\n",
    "                WHERE id_book={}\".format(u['CNT'], u['book_id']))\n",
    "    con.comit()"
   ]
  },
  {
   "cell_type": "markdown",
   "id": "loose-citizen",
   "metadata": {},
   "source": [
    "# Fees aka плоти нологи"
   ]
  },
  {
   "cell_type": "code",
   "execution_count": 19,
   "id": "japanese-variety",
   "metadata": {},
   "outputs": [],
   "source": [
    "cur.execute(\"SELECT DATEDIFF(actual_return, date_end) AS date_diff, id_loan, members_id \\\n",
    "                FROM loans WHERE date_end < actual_return\") # книжку вернули, но она просрочена\n",
    "return_c=cur.fetchall()\n",
    "\n",
    "cur.execute(\"SELECT DATEDIFF(CURDATE(), date_end) AS date_diff, id_loan, members_id\\\n",
    "            FROM loans WHERE actual_return <=> NULL AND date_end < CURDATE()\") # книжку не вернули и она просрочена\n",
    "no_return_c=cur.fetchall()    "
   ]
  },
  {
   "cell_type": "code",
   "execution_count": 21,
   "id": "posted-onion",
   "metadata": {},
   "outputs": [
    {
     "data": {
      "text/plain": [
       "[{'date_diff': 1076, 'id_loan': 2, 'members_id': 23},\n",
       " {'date_diff': 711, 'id_loan': 8, 'members_id': 20},\n",
       " {'date_diff': 231, 'id_loan': 9, 'members_id': 36},\n",
       " {'date_diff': 679, 'id_loan': 16, 'members_id': 18},\n",
       " {'date_diff': 65, 'id_loan': 20, 'members_id': 15},\n",
       " {'date_diff': 457, 'id_loan': 21, 'members_id': 30},\n",
       " {'date_diff': 417, 'id_loan': 22, 'members_id': 18},\n",
       " {'date_diff': 567, 'id_loan': 25, 'members_id': 36},\n",
       " {'date_diff': 117, 'id_loan': 27, 'members_id': 32},\n",
       " {'date_diff': 798, 'id_loan': 33, 'members_id': 6}]"
      ]
     },
     "execution_count": 21,
     "metadata": {},
     "output_type": "execute_result"
    }
   ],
   "source": [
    "no_return_c"
   ]
  },
  {
   "cell_type": "code",
   "execution_count": 20,
   "id": "different-banking",
   "metadata": {},
   "outputs": [
    {
     "data": {
      "text/plain": [
       "[{'date_diff': 11, 'id_loan': 3, 'members_id': 41},\n",
       " {'date_diff': 28, 'id_loan': 12, 'members_id': 40},\n",
       " {'date_diff': 6, 'id_loan': 13, 'members_id': 7},\n",
       " {'date_diff': 28, 'id_loan': 17, 'members_id': 37},\n",
       " {'date_diff': 35, 'id_loan': 24, 'members_id': 22},\n",
       " {'date_diff': 12, 'id_loan': 26, 'members_id': 38},\n",
       " {'date_diff': 1, 'id_loan': 29, 'members_id': 37},\n",
       " {'date_diff': 2, 'id_loan': 34, 'members_id': 43},\n",
       " {'date_diff': 15, 'id_loan': 37, 'members_id': 4},\n",
       " {'date_diff': 41, 'id_loan': 39, 'members_id': 11},\n",
       " {'date_diff': 29, 'id_loan': 40, 'members_id': 40}]"
      ]
     },
     "execution_count": 20,
     "metadata": {},
     "output_type": "execute_result"
    }
   ],
   "source": [
    "return_c"
   ]
  },
  {
   "cell_type": "code",
   "execution_count": 159,
   "id": "great-spelling",
   "metadata": {},
   "outputs": [],
   "source": [
    "s = 50\n",
    "\n",
    "for f in return_c:\n",
    "    paid = str(1)\n",
    "    fee = str(f['date_diff']*s)\n",
    "    sss = \"INSERT INTO fees (fee_amount, loan_id, paid) \\\n",
    "            VALUES ({})\".format(\", \".join([fee, str(f['id_loan']), paid]))\n",
    "    cur.execute(sss)\n",
    "\n",
    "for f in no_return_c:\n",
    "    paid = str(0)\n",
    "    fee = str(f['date_diff']*s)\n",
    "    sss = \"INSERT INTO fees (fee_amount, loan_id, paid) \\\n",
    "            VALUES ({})\".format(\", \".join([fee, str(f['id_loan']), paid]))\n",
    "    cur.execute(sss)\n",
    "\n",
    "con.commit()"
   ]
  },
  {
   "cell_type": "code",
   "execution_count": 160,
   "id": "challenging-booking",
   "metadata": {},
   "outputs": [
    {
     "data": {
      "text/plain": [
       "[{'id_fee': 1, 'fee_amount': 550, 'loan_id': 3, 'paid': 1},\n",
       " {'id_fee': 2, 'fee_amount': 1400, 'loan_id': 12, 'paid': 1},\n",
       " {'id_fee': 3, 'fee_amount': 300, 'loan_id': 13, 'paid': 1},\n",
       " {'id_fee': 4, 'fee_amount': 1400, 'loan_id': 17, 'paid': 1},\n",
       " {'id_fee': 5, 'fee_amount': 1750, 'loan_id': 24, 'paid': 1},\n",
       " {'id_fee': 6, 'fee_amount': 600, 'loan_id': 26, 'paid': 1},\n",
       " {'id_fee': 7, 'fee_amount': 50, 'loan_id': 29, 'paid': 1},\n",
       " {'id_fee': 8, 'fee_amount': 100, 'loan_id': 34, 'paid': 1},\n",
       " {'id_fee': 9, 'fee_amount': 750, 'loan_id': 37, 'paid': 1},\n",
       " {'id_fee': 10, 'fee_amount': 2050, 'loan_id': 39, 'paid': 1},\n",
       " {'id_fee': 11, 'fee_amount': 1450, 'loan_id': 40, 'paid': 1},\n",
       " {'id_fee': 12, 'fee_amount': 53700, 'loan_id': 2, 'paid': 0},\n",
       " {'id_fee': 13, 'fee_amount': 35450, 'loan_id': 8, 'paid': 0},\n",
       " {'id_fee': 14, 'fee_amount': 11450, 'loan_id': 9, 'paid': 0},\n",
       " {'id_fee': 15, 'fee_amount': 33850, 'loan_id': 16, 'paid': 0},\n",
       " {'id_fee': 16, 'fee_amount': 3150, 'loan_id': 20, 'paid': 0},\n",
       " {'id_fee': 17, 'fee_amount': 22750, 'loan_id': 21, 'paid': 0},\n",
       " {'id_fee': 18, 'fee_amount': 20750, 'loan_id': 22, 'paid': 0},\n",
       " {'id_fee': 19, 'fee_amount': 28250, 'loan_id': 25, 'paid': 0},\n",
       " {'id_fee': 20, 'fee_amount': 5750, 'loan_id': 27, 'paid': 0},\n",
       " {'id_fee': 21, 'fee_amount': 39800, 'loan_id': 33, 'paid': 0}]"
      ]
     },
     "execution_count": 160,
     "metadata": {},
     "output_type": "execute_result"
    }
   ],
   "source": [
    "cur.execute(\"SELECT * FROM fees\")\n",
    "data=cur.fetchall()\n",
    "data"
   ]
  },
  {
   "attachments": {},
   "cell_type": "markdown",
   "id": "billion-gender",
   "metadata": {},
   "source": [
    "# Проверить, есть ли у меня читательский билет"
   ]
  },
  {
   "cell_type": "code",
   "execution_count": 104,
   "id": "electoral-things",
   "metadata": {},
   "outputs": [],
   "source": [
    "def check_id(phone):\n",
    "    cur.execute(\"SELECT id_member FROM members\\\n",
    "                WHERE phone={}\".format(phone))\n",
    "    data=cur.fetchall()\n",
    "    if data != []:\n",
    "        print('Номер вашего читательского билета: {}'.format(data[0]['id_member']))\n",
    "        return data[0]['id_member']\n",
    "    else:\n",
    "        print('Номер читательского билета для номера телефона {} не найден.\\\n",
    "        \\nПопробуйте еще раз или получите читательский билет'.format(phone))\n",
    "    \n",
    "\n",
    "name = str(input('Введите номер телефона: '))\n",
    "member_id = check_id(name)\n",
    "\n",
    "# Получить читательский билет\n",
    "\n",
    "from datetime import date"
   ]
  },
  {
   "cell_type": "code",
   "execution_count": 106,
   "id": "close-future",
   "metadata": {},
   "outputs": [],
   "source": [
    "def add_member(name, phone, email):\n",
    "    reg_date = date.today().strftime(\"%Y-%m-%d\")\n",
    "    cur.execute(\"SELECT id_member, phone, email  FROM members \\\n",
    "                WHERE phone={} OR email LIKE '{}'\".format(phone, email))\n",
    "    data = cur.fetchall()\n",
    "    \n",
    "    if data == []:\n",
    "        am = \"INSERT INTO members (name, phone, email, reg_date) \\\n",
    "        VALUES ('{}', '{}', '{}', '{}')\".format(name, phone, email, reg_date)\n",
    "        cur.execute(am)\n",
    "        con.commit()\n",
    "\n",
    "        cur.execute(\"SELECT id_member FROM members ORDER BY id_member DESC LIMIT 1\")\n",
    "        data=cur.fetchall()\n",
    "        print('\\nВы успешно зарегестрированы!\\\n",
    "        \\nНомер вашего читательского билета: {}'.format(data[0]['id_member']))\n",
    "        return data[0]['id_member']\n",
    "    else:\n",
    "        \n",
    "        print('\\nПользователь с номером {} уже зарегестрирован.\\\n",
    "        \\nНомер читательского билета: {}'.format(phone, data[0]['id_member']))\n",
    "        return data[0]['id_member']"
   ]
  },
  {
   "cell_type": "code",
   "execution_count": 107,
   "id": "common-theme",
   "metadata": {},
   "outputs": [
    {
     "name": "stdout",
     "output_type": "stream",
     "text": [
      "Введите ФИО: Пыжак Юлия Вячеславовна\n",
      "Введите номер телефона: 8787322246\n",
      "Введите email: sjgfkh@gmail.com\n",
      "\n",
      "Вы успешно зарегестрированы!        \n",
      "Номер вашего читательского билета: 57\n"
     ]
    }
   ],
   "source": [
    "name, phone, email  = input('Введите ФИО: '), str(input('Введите номер телефона: ')), input('Введите email: ')\n",
    "member_id = add_member(name, phone, email)"
   ]
  },
  {
   "cell_type": "markdown",
   "id": "detected-relationship",
   "metadata": {},
   "source": [
    "# Поиск по авторам, жанру и названию"
   ]
  },
  {
   "cell_type": "code",
   "execution_count": 108,
   "id": "atmospheric-blade",
   "metadata": {},
   "outputs": [],
   "source": [
    "def find_book(query):\n",
    "    cur.execute(\"\"\"SELECT * FROM (\n",
    "                SELECT title, group_concat(DISTINCT name SEPARATOR ', ') as names, language, cat_name, pub_year, num_available, \n",
    "                books.id_book FROM authors, books, authors2books, category\n",
    "                WHERE authors.id_author=authors2books.id_author \n",
    "                AND books.id_book=authors2books.id_book AND category.id_category=books.category\n",
    "                GROUP BY id_book) as info\n",
    "                WHERE info.title LIKE '%{}%'\n",
    "                OR info.names LIKE '%{}%'\n",
    "                OR info.cat_name LIKE '%{}%'\n",
    "                \"\"\".format(query, query, query))\n",
    "    data=cur.fetchall()\n",
    "    if data==[]:\n",
    "        print('По вашему запросу ничего не найдено')\n",
    "    else:\n",
    "        return pd.DataFrame.from_dict(data)"
   ]
  },
  {
   "cell_type": "code",
   "execution_count": 109,
   "id": "humanitarian-causing",
   "metadata": {
    "scrolled": true
   },
   "outputs": [
    {
     "name": "stdout",
     "output_type": "stream",
     "text": [
      "Введите слов(а) для поиска: триллер\n"
     ]
    },
    {
     "data": {
      "text/html": [
       "<div>\n",
       "<style scoped>\n",
       "    .dataframe tbody tr th:only-of-type {\n",
       "        vertical-align: middle;\n",
       "    }\n",
       "\n",
       "    .dataframe tbody tr th {\n",
       "        vertical-align: top;\n",
       "    }\n",
       "\n",
       "    .dataframe thead th {\n",
       "        text-align: right;\n",
       "    }\n",
       "</style>\n",
       "<table border=\"1\" class=\"dataframe\">\n",
       "  <thead>\n",
       "    <tr style=\"text-align: right;\">\n",
       "      <th></th>\n",
       "      <th>title</th>\n",
       "      <th>names</th>\n",
       "      <th>language</th>\n",
       "      <th>cat_name</th>\n",
       "      <th>pub_year</th>\n",
       "      <th>num_available</th>\n",
       "      <th>id_book</th>\n",
       "    </tr>\n",
       "  </thead>\n",
       "  <tbody>\n",
       "    <tr>\n",
       "      <th>0</th>\n",
       "      <td>Правление волков</td>\n",
       "      <td>Ли Бардуго</td>\n",
       "      <td>ru</td>\n",
       "      <td>Триллеры</td>\n",
       "      <td>2014</td>\n",
       "      <td>18</td>\n",
       "      <td>6</td>\n",
       "    </tr>\n",
       "    <tr>\n",
       "      <th>1</th>\n",
       "      <td>Волшебник страны Оз</td>\n",
       "      <td>Себастьян Перез</td>\n",
       "      <td>ru</td>\n",
       "      <td>Триллеры</td>\n",
       "      <td>2011</td>\n",
       "      <td>6</td>\n",
       "      <td>9</td>\n",
       "    </tr>\n",
       "    <tr>\n",
       "      <th>2</th>\n",
       "      <td>Мудрость толпы</td>\n",
       "      <td>Джо Аберкромби</td>\n",
       "      <td>ru</td>\n",
       "      <td>Триллеры</td>\n",
       "      <td>2012</td>\n",
       "      <td>17</td>\n",
       "      <td>15</td>\n",
       "    </tr>\n",
       "  </tbody>\n",
       "</table>\n",
       "</div>"
      ],
      "text/plain": [
       "                 title            names language  cat_name  pub_year  \\\n",
       "0     Правление волков       Ли Бардуго       ru  Триллеры      2014   \n",
       "1  Волшебник страны Оз  Себастьян Перез       ru  Триллеры      2011   \n",
       "2       Мудрость толпы   Джо Аберкромби       ru  Триллеры      2012   \n",
       "\n",
       "   num_available  id_book  \n",
       "0             18        6  \n",
       "1              6        9  \n",
       "2             17       15  "
      ]
     },
     "execution_count": 109,
     "metadata": {},
     "output_type": "execute_result"
    }
   ],
   "source": [
    "query = str(input('Введите слов(а) для поиска: '))\n",
    "df = find_book(query)\n",
    "df"
   ]
  },
  {
   "cell_type": "markdown",
   "id": "simple-track",
   "metadata": {},
   "source": [
    "## Взять книгу"
   ]
  },
  {
   "cell_type": "code",
   "execution_count": 110,
   "id": "major-climb",
   "metadata": {},
   "outputs": [],
   "source": [
    "def take_book(users_id):\n",
    "    cur.execute(\"SELECT DISTINCT id_book, title FROM books LEFT JOIN loans \\\n",
    "                ON books.id_book=loans.book_id \\\n",
    "                WHERE id_book={} AND num_available > 0\".format(df.iloc[users_id]['id_book']))\n",
    "    avail=cur.fetchall()\n",
    "\n",
    "\n",
    "    if avail == []: # check when book will be returned\n",
    "        cur.execute(\"SELECT title, date_end FROM books LEFT JOIN loans \\\n",
    "                ON books.id_book=loans.book_id \\\n",
    "                WHERE id_book={} \\\n",
    "                ORDER BY date_end\".format(df.iloc[users_id]['id_book']))\n",
    "        data=cur.fetchall()\n",
    "        print('К сожалению, сейчас нет доступных экземпляров книги \"{}\". \\\n",
    "        \\nПредполагаемая дата возврата книги в библиотеку: {}'.format(data[0]['title'], data[0]['date_end']))\n",
    "\n",
    "    else: # сделать запись в loan\n",
    "        date_st = date.today()\n",
    "        date_end = date_st + datetime.timedelta(days=30)\n",
    "\n",
    "        date_end = date_end.strftime(\"%Y-%m-%d\")\n",
    "        date_st = date_st.strftime(\"%Y-%m-%d\")\n",
    "        id_book = str(avail[0]['id_book'])\n",
    "\n",
    "        sss = \"INSERT INTO loans (members_id, book_id, date_st, date_end) \\\n",
    "                VALUES ('{}')\".format(\"', '\".join([str(member_id), id_book, date_st, date_end])) \n",
    "        cur.execute(sss)\n",
    "   \n",
    "        # обновить avail в books\n",
    "        sss = \"UPDATE books SET num_available=num_available- 1\\\n",
    "                WHERE id_book={}\".format(id_book, id_book) \n",
    "        cur.execute(sss)\n",
    "        print('Вы успешно зарезервировали кингу \"{}\". \\\n",
    "        \\nЕе необходимо вернуть до {}'.format(avail[0]['title'], date_end))\n",
    "\n",
    "        con.commit()"
   ]
  },
  {
   "cell_type": "code",
   "execution_count": 111,
   "id": "functional-china",
   "metadata": {},
   "outputs": [
    {
     "name": "stdout",
     "output_type": "stream",
     "text": [
      "Введите номер нужной книги: 1\n",
      "Вы успешно зарезервировали кингу \"Волшебник страны Оз\".         \n",
      "Ее необходимо вернуть до 2022-01-23\n"
     ]
    }
   ],
   "source": [
    "users_id = int(input('Введите номер нужной книги: '))\n",
    "take_book(users_id)"
   ]
  },
  {
   "cell_type": "markdown",
   "id": "smoking-growth",
   "metadata": {},
   "source": [
    "# Проверить, какие книжки на руках и продлить их"
   ]
  },
  {
   "cell_type": "code",
   "execution_count": 112,
   "id": "silver-catering",
   "metadata": {},
   "outputs": [],
   "source": [
    "def check_my_books(member_id):\n",
    "    cur.execute(\"SELECT title, date_end, id_book FROM books LEFT JOIN loans \\\n",
    "                ON books.id_book=loans.book_id \\\n",
    "                WHERE members_id={} \\\n",
    "                ORDER BY date_end\".format(str(member_id)))\n",
    "    data = cur.fetchall()\n",
    "    if data != []:\n",
    "        print(\"Ваши книги:\")\n",
    "        display(pd.DataFrame.from_dict(data))\n",
    "    \n",
    "        answer = input('Хотите продлить кингу? Да/Нет ')\n",
    "        while answer.capitalize() == 'Да':\n",
    "            book_id = int(input('Введите номер книги: '))\n",
    "            update_date = \"\"\"UPDATE loans SET date_end = DATE_ADD(date_end, INTERVAL 30 DAY)\n",
    "                            WHERE book_id={} \n",
    "                            AND members_id={}\"\"\".format(str(data[book_id]['id_book']), member_id)\n",
    "            cur.execute(update_date)\n",
    "            \n",
    "            cur.execute(\"\"\"SELECT date_end FROM loans \n",
    "                            WHERE book_id={} \n",
    "                            AND members_id={}\"\"\".format(str(data[book_id]['id_book']), member_id))\n",
    "            new_date = cur.fetchall()\n",
    "            print(\"Дата возврата успешно изменена с {} на {}\".format(data[book_id]['date_end'], new_date[0]['date_end']))\n",
    "            answer = input('Хотите продлить кингу? Да/Нет ')\n",
    "    else:\n",
    "        print(\"Вы еще ничего не взяли из библиотеки\")"
   ]
  },
  {
   "cell_type": "code",
   "execution_count": 113,
   "id": "recreational-sperm",
   "metadata": {},
   "outputs": [
    {
     "name": "stdout",
     "output_type": "stream",
     "text": [
      "Ваши книги:\n"
     ]
    },
    {
     "data": {
      "text/html": [
       "<div>\n",
       "<style scoped>\n",
       "    .dataframe tbody tr th:only-of-type {\n",
       "        vertical-align: middle;\n",
       "    }\n",
       "\n",
       "    .dataframe tbody tr th {\n",
       "        vertical-align: top;\n",
       "    }\n",
       "\n",
       "    .dataframe thead th {\n",
       "        text-align: right;\n",
       "    }\n",
       "</style>\n",
       "<table border=\"1\" class=\"dataframe\">\n",
       "  <thead>\n",
       "    <tr style=\"text-align: right;\">\n",
       "      <th></th>\n",
       "      <th>title</th>\n",
       "      <th>date_end</th>\n",
       "      <th>id_book</th>\n",
       "    </tr>\n",
       "  </thead>\n",
       "  <tbody>\n",
       "    <tr>\n",
       "      <th>0</th>\n",
       "      <td>Волшебник страны Оз</td>\n",
       "      <td>2022-01-23</td>\n",
       "      <td>9</td>\n",
       "    </tr>\n",
       "  </tbody>\n",
       "</table>\n",
       "</div>"
      ],
      "text/plain": [
       "                 title    date_end  id_book\n",
       "0  Волшебник страны Оз  2022-01-23        9"
      ]
     },
     "metadata": {},
     "output_type": "display_data"
    },
    {
     "name": "stdout",
     "output_type": "stream",
     "text": [
      "Хотите продлить кингу? Да/Нет да\n",
      "Введите номер книги: 0\n",
      "Дата возврата успешно изменена с 2022-01-23 на 2022-02-22\n",
      "Хотите продлить кингу? Да/Нетнет\n"
     ]
    }
   ],
   "source": [
    "check_my_books(member_id)"
   ]
  },
  {
   "cell_type": "markdown",
   "id": "basic-chaos",
   "metadata": {},
   "source": [
    "# Проверить, есть ли неоплаченные штрафы"
   ]
  },
  {
   "cell_type": "code",
   "execution_count": 114,
   "id": "welcome-update",
   "metadata": {},
   "outputs": [],
   "source": [
    "def check_my_fees(member_id):\n",
    "    cur.execute(\"SELECT DATEDIFF(CURDATE(), date_end) AS date_diff, \\\n",
    "                title, fee_amount FROM fees JOIN loans \\\n",
    "                ON fees.loan_id=loans.id_loan\\\n",
    "                JOIN books \\\n",
    "                ON books.id_book=loans.book_id\\\n",
    "                WHERE members_id={} AND\\\n",
    "                paid=0\".format(str(member_id)))\n",
    "    data = cur.fetchall()\n",
    "    if data == []:\n",
    "        print(\"У вас нет неоплаченных штрафов\")\n",
    "    else:\n",
    "        for fee in data:\n",
    "            print('Штраф за кннигу \"{}\" - {} р. Вы просрочили книгу на {} дня'.format(\\\n",
    "                                fee['title'], fee['fee_amount'], fee['date_diff']))"
   ]
  },
  {
   "cell_type": "code",
   "execution_count": 116,
   "id": "indian-central",
   "metadata": {},
   "outputs": [
    {
     "name": "stdout",
     "output_type": "stream",
     "text": [
      "Штраф за кннигу \"Намедни. Наша эра. 2011-2015\" - 3150 р. Вы просрочили книгу на 65 дня\n"
     ]
    }
   ],
   "source": [
    "check_my_fees(15)"
   ]
  },
  {
   "cell_type": "code",
   "execution_count": 45,
   "id": "greatest-driver",
   "metadata": {},
   "outputs": [
    {
     "data": {
      "text/plain": [
       "54"
      ]
     },
     "execution_count": 45,
     "metadata": {},
     "output_type": "execute_result"
    }
   ],
   "source": [
    "member_id"
   ]
  },
  {
   "cell_type": "markdown",
   "id": "cosmetic-outdoors",
   "metadata": {},
   "source": [
    "Удаление"
   ]
  },
  {
   "cell_type": "code",
   "execution_count": 119,
   "id": "important-tyler",
   "metadata": {},
   "outputs": [
    {
     "data": {
      "text/plain": [
       "[{'id_loan': 41},\n",
       " {'id_loan': 40},\n",
       " {'id_loan': 39},\n",
       " {'id_loan': 38},\n",
       " {'id_loan': 37}]"
      ]
     },
     "execution_count": 119,
     "metadata": {},
     "output_type": "execute_result"
    }
   ],
   "source": [
    "cur.execute(\"SELECT id_loan FROM loans ORDER BY id_loan DESC LIMIT 5\")\n",
    "cur.fetchall()"
   ]
  },
  {
   "cell_type": "code",
   "execution_count": 118,
   "id": "ordered-template",
   "metadata": {},
   "outputs": [],
   "source": [
    "sss = \"DELETE FROM loans ORDER BY id_loan DESC LIMIT 1\" \n",
    "cur.execute(sss)"
   ]
  },
  {
   "cell_type": "code",
   "execution_count": 168,
   "id": "static-preservation",
   "metadata": {},
   "outputs": [],
   "source": [
    "con.commit()"
   ]
  },
  {
   "cell_type": "markdown",
   "id": "disabled-genesis",
   "metadata": {},
   "source": [
    "# Запросы"
   ]
  },
  {
   "cell_type": "markdown",
   "id": "annoying-target",
   "metadata": {},
   "source": [
    "1. популярность разных авторов"
   ]
  },
  {
   "cell_type": "code",
   "execution_count": 9,
   "id": "flexible-platinum",
   "metadata": {},
   "outputs": [],
   "source": [
    "cur.execute(\"\"\"WITH full_authors AS (SELECT title, \n",
    "            GROUP_CONCAT(name SEPARATOR ', ') as cn_names, books.id_book\n",
    "            FROM books, authors2books, authors\n",
    "            WHERE \n",
    "            authors2books.id_author=authors.id_author\n",
    "            AND authors2books.id_book=books.id_book\n",
    "            GROUP BY books.id_book) \n",
    "            \n",
    "            SELECT  cn_names, COUNT(DISTINCT(id_loan)) as cnt\n",
    "            FROM loans, full_authors\n",
    "            WHERE loans.book_id=full_authors.id_book\n",
    "            GROUP BY cn_names\n",
    "            ORDER BY cnt DESC\n",
    "            LIMIT 5\"\"\")\n",
    "data=cur.fetchall()"
   ]
  },
  {
   "cell_type": "code",
   "execution_count": 10,
   "id": "consistent-mineral",
   "metadata": {},
   "outputs": [
    {
     "data": {
      "text/html": [
       "<div>\n",
       "<style scoped>\n",
       "    .dataframe tbody tr th:only-of-type {\n",
       "        vertical-align: middle;\n",
       "    }\n",
       "\n",
       "    .dataframe tbody tr th {\n",
       "        vertical-align: top;\n",
       "    }\n",
       "\n",
       "    .dataframe thead th {\n",
       "        text-align: right;\n",
       "    }\n",
       "</style>\n",
       "<table border=\"1\" class=\"dataframe\">\n",
       "  <thead>\n",
       "    <tr style=\"text-align: right;\">\n",
       "      <th></th>\n",
       "      <th>cn_names</th>\n",
       "      <th>cnt</th>\n",
       "    </tr>\n",
       "  </thead>\n",
       "  <tbody>\n",
       "    <tr>\n",
       "      <th>0</th>\n",
       "      <td>Ганс Андерсен, Эрнст Гофман, Гримм Якоб и Виль...</td>\n",
       "      <td>5</td>\n",
       "    </tr>\n",
       "    <tr>\n",
       "      <th>1</th>\n",
       "      <td>Себастьян Перез</td>\n",
       "      <td>4</td>\n",
       "    </tr>\n",
       "    <tr>\n",
       "      <th>2</th>\n",
       "      <td>Сергей Тармашев</td>\n",
       "      <td>4</td>\n",
       "    </tr>\n",
       "    <tr>\n",
       "      <th>3</th>\n",
       "      <td>Виктория Кирдий</td>\n",
       "      <td>3</td>\n",
       "    </tr>\n",
       "    <tr>\n",
       "      <th>4</th>\n",
       "      <td>Леонид Парфенов</td>\n",
       "      <td>3</td>\n",
       "    </tr>\n",
       "  </tbody>\n",
       "</table>\n",
       "</div>"
      ],
      "text/plain": [
       "                                            cn_names  cnt\n",
       "0  Ганс Андерсен, Эрнст Гофман, Гримм Якоб и Виль...    5\n",
       "1                                    Себастьян Перез    4\n",
       "2                                    Сергей Тармашев    4\n",
       "3                                    Виктория Кирдий    3\n",
       "4                                    Леонид Парфенов    3"
      ]
     },
     "execution_count": 10,
     "metadata": {},
     "output_type": "execute_result"
    }
   ],
   "source": [
    "pd.DataFrame.from_dict(data)"
   ]
  },
  {
   "cell_type": "markdown",
   "id": "organized-communication",
   "metadata": {},
   "source": [
    "2. сумма неоплаченных штрафов по пользователю"
   ]
  },
  {
   "cell_type": "code",
   "execution_count": 101,
   "id": "copyrighted-former",
   "metadata": {},
   "outputs": [],
   "source": [
    "cur.execute(\"\"\"SELECT name, SUM(fee_amount) as total_fee\n",
    "                FROM loans JOIN fees ON loans.id_loan=fees.loan_id\n",
    "                JOIN members ON members.id_member=loans.members_id\n",
    "                WHERE paid=0\n",
    "                GROUP BY members_id\"\"\")\n",
    "data=cur.fetchall()"
   ]
  },
  {
   "cell_type": "code",
   "execution_count": 102,
   "id": "compressed-earthquake",
   "metadata": {},
   "outputs": [
    {
     "data": {
      "text/html": [
       "<div>\n",
       "<style scoped>\n",
       "    .dataframe tbody tr th:only-of-type {\n",
       "        vertical-align: middle;\n",
       "    }\n",
       "\n",
       "    .dataframe tbody tr th {\n",
       "        vertical-align: top;\n",
       "    }\n",
       "\n",
       "    .dataframe thead th {\n",
       "        text-align: right;\n",
       "    }\n",
       "</style>\n",
       "<table border=\"1\" class=\"dataframe\">\n",
       "  <thead>\n",
       "    <tr style=\"text-align: right;\">\n",
       "      <th></th>\n",
       "      <th>name</th>\n",
       "      <th>total_fee</th>\n",
       "    </tr>\n",
       "  </thead>\n",
       "  <tbody>\n",
       "    <tr>\n",
       "      <th>0</th>\n",
       "      <td>Воробьева Мадина Денисовна</td>\n",
       "      <td>53700</td>\n",
       "    </tr>\n",
       "    <tr>\n",
       "      <th>1</th>\n",
       "      <td>Королев Павел Андреевич</td>\n",
       "      <td>35450</td>\n",
       "    </tr>\n",
       "    <tr>\n",
       "      <th>2</th>\n",
       "      <td>Смирнова Кристина Александровна</td>\n",
       "      <td>39700</td>\n",
       "    </tr>\n",
       "    <tr>\n",
       "      <th>3</th>\n",
       "      <td>Яковлев Арсений Константинович</td>\n",
       "      <td>54600</td>\n",
       "    </tr>\n",
       "    <tr>\n",
       "      <th>4</th>\n",
       "      <td>Карпов Демид Глебович</td>\n",
       "      <td>3150</td>\n",
       "    </tr>\n",
       "    <tr>\n",
       "      <th>5</th>\n",
       "      <td>Кузина Таисия Артёмовна</td>\n",
       "      <td>22750</td>\n",
       "    </tr>\n",
       "    <tr>\n",
       "      <th>6</th>\n",
       "      <td>Черная Ника Романовна</td>\n",
       "      <td>5750</td>\n",
       "    </tr>\n",
       "    <tr>\n",
       "      <th>7</th>\n",
       "      <td>Кузнецова Вероника Викторовна</td>\n",
       "      <td>39800</td>\n",
       "    </tr>\n",
       "  </tbody>\n",
       "</table>\n",
       "</div>"
      ],
      "text/plain": [
       "                              name total_fee\n",
       "0       Воробьева Мадина Денисовна     53700\n",
       "1          Королев Павел Андреевич     35450\n",
       "2  Смирнова Кристина Александровна     39700\n",
       "3   Яковлев Арсений Константинович     54600\n",
       "4            Карпов Демид Глебович      3150\n",
       "5          Кузина Таисия Артёмовна     22750\n",
       "6            Черная Ника Романовна      5750\n",
       "7    Кузнецова Вероника Викторовна     39800"
      ]
     },
     "execution_count": 102,
     "metadata": {},
     "output_type": "execute_result"
    }
   ],
   "source": [
    "pd.DataFrame.from_dict(data)"
   ]
  },
  {
   "cell_type": "markdown",
   "id": "descending-raise",
   "metadata": {},
   "source": [
    "3. люди, у которых неоплаченный штраф выше среднего по неоплаченным"
   ]
  },
  {
   "cell_type": "code",
   "execution_count": 99,
   "id": "contemporary-export",
   "metadata": {},
   "outputs": [],
   "source": [
    "cur.execute(\"\"\"SELECT name, fee_amount FROM fees \n",
    "                JOIN loans ON fees.loan_id=loans.id_loan \n",
    "                RIGHT JOIN members ON members.id_member=loans.members_id\n",
    "                WHERE paid=0 \n",
    "                AND fee_amount > (\n",
    "                SELECT ROUND(AVG(fee_amount)) FROM fees WHERE paid=0)\n",
    "                ORDER BY fee_amount DESC\"\"\")\n",
    "data=cur.fetchall()"
   ]
  },
  {
   "cell_type": "code",
   "execution_count": 100,
   "id": "interstate-conditions",
   "metadata": {},
   "outputs": [
    {
     "data": {
      "text/html": [
       "<div>\n",
       "<style scoped>\n",
       "    .dataframe tbody tr th:only-of-type {\n",
       "        vertical-align: middle;\n",
       "    }\n",
       "\n",
       "    .dataframe tbody tr th {\n",
       "        vertical-align: top;\n",
       "    }\n",
       "\n",
       "    .dataframe thead th {\n",
       "        text-align: right;\n",
       "    }\n",
       "</style>\n",
       "<table border=\"1\" class=\"dataframe\">\n",
       "  <thead>\n",
       "    <tr style=\"text-align: right;\">\n",
       "      <th></th>\n",
       "      <th>name</th>\n",
       "      <th>fee_amount</th>\n",
       "    </tr>\n",
       "  </thead>\n",
       "  <tbody>\n",
       "    <tr>\n",
       "      <th>0</th>\n",
       "      <td>Воробьева Мадина Денисовна</td>\n",
       "      <td>53700</td>\n",
       "    </tr>\n",
       "    <tr>\n",
       "      <th>1</th>\n",
       "      <td>Кузнецова Вероника Викторовна</td>\n",
       "      <td>39800</td>\n",
       "    </tr>\n",
       "    <tr>\n",
       "      <th>2</th>\n",
       "      <td>Королев Павел Андреевич</td>\n",
       "      <td>35450</td>\n",
       "    </tr>\n",
       "    <tr>\n",
       "      <th>3</th>\n",
       "      <td>Яковлев Арсений Константинович</td>\n",
       "      <td>33850</td>\n",
       "    </tr>\n",
       "    <tr>\n",
       "      <th>4</th>\n",
       "      <td>Смирнова Кристина Александровна</td>\n",
       "      <td>28250</td>\n",
       "    </tr>\n",
       "  </tbody>\n",
       "</table>\n",
       "</div>"
      ],
      "text/plain": [
       "                              name  fee_amount\n",
       "0       Воробьева Мадина Денисовна       53700\n",
       "1    Кузнецова Вероника Викторовна       39800\n",
       "2          Королев Павел Андреевич       35450\n",
       "3   Яковлев Арсений Константинович       33850\n",
       "4  Смирнова Кристина Александровна       28250"
      ]
     },
     "execution_count": 100,
     "metadata": {},
     "output_type": "execute_result"
    }
   ],
   "source": [
    "pd.DataFrame.from_dict(data)"
   ]
  },
  {
   "cell_type": "code",
   "execution_count": null,
   "id": "abf337d4",
   "metadata": {},
   "outputs": [],
   "source": [
    "cur.close()\n",
    "con.close()"
   ]
  }
 ],
 "metadata": {
  "kernelspec": {
   "display_name": "Python 3 (ipykernel)",
   "language": "python",
   "name": "python3"
  },
  "language_info": {
   "codemirror_mode": {
    "name": "ipython",
    "version": 3
   },
   "file_extension": ".py",
   "mimetype": "text/x-python",
   "name": "python",
   "nbconvert_exporter": "python",
   "pygments_lexer": "ipython3",
   "version": "3.10.1"
  }
 },
 "nbformat": 4,
 "nbformat_minor": 5
}
